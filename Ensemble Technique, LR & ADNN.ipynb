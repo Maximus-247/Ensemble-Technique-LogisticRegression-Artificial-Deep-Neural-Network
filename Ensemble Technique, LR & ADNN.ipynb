{
 "cells": [
  {
   "cell_type": "markdown",
   "id": "e5a5bd1a",
   "metadata": {},
   "source": [
    "# An Ensemble Technique for Predicting Stock Returns Based on Global Stock Exchanges Using Logistic Regression (LR) and Artificial Deep Neural Networks (ADNNs)"
   ]
  },
  {
   "cell_type": "markdown",
   "id": "5043510f",
   "metadata": {},
   "source": [
    "There are several factors that explain why the stock markets throughout the world are connected in some way. Some of the factors are listed below:\n",
    "1)\tThe world's economies are interdependent. For instance, the two largest economies in the world are the United States and China. China is the United States' main trading partner, while China has several trading partners all over the world. China is the major supplier of goods to nations in Europe and Africa. Because of this global network, economies are interdependent. Hence, there will be a connection between the stock markets.\n",
    "2)\tCurrency connects global marketplaces. The leading currency in the world is the US dollar. Because of its hegemony, it has a significant impact on international markets. The dollar's fluctuation has a significant impact on other markets.\n",
    "3)\tSeveral of the businesses are listed on more than one stock exchange. The same company listed on another stock market will be impacted when the price of one company changes.\n",
    "4)\tComparable businesses in the same sector may simultaneously get their ratings raised or lowered in several areas.  The consequences of these valuations will be felt by other comparable companies in the same industry in different nations.\n"
   ]
  },
  {
   "cell_type": "markdown",
   "id": "dc41dc71",
   "metadata": {},
   "source": [
    "This project aims to develop an ensemble model for forecasting Instanbul Stock Exchange returns, consequently, making it possible for potential investors to place their money in Global Financial Markets where its value is more likely to increase. "
   ]
  },
  {
   "cell_type": "markdown",
   "id": "d93d457a",
   "metadata": {},
   "source": [
    "# Importing the libraries and loading the dataset"
   ]
  },
  {
   "cell_type": "code",
   "execution_count": 1,
   "id": "fd345453",
   "metadata": {},
   "outputs": [],
   "source": [
    "#importing the libraries\n",
    "import pandas as pd\n",
    "import numpy as np\n",
    "import matplotlib.pyplot as plt\n",
    "import seaborn as sns\n",
    "import statsmodels\n",
    "import sklearn"
   ]
  },
  {
   "cell_type": "code",
   "execution_count": 2,
   "id": "579cfb54",
   "metadata": {},
   "outputs": [],
   "source": [
    "#importing the Istanbul dataset\n",
    "data=pd.read_csv('dataistanbul.csv')"
   ]
  },
  {
   "cell_type": "code",
   "execution_count": 3,
   "id": "aef75378",
   "metadata": {},
   "outputs": [
    {
     "data": {
      "text/html": [
       "<div>\n",
       "<style scoped>\n",
       "    .dataframe tbody tr th:only-of-type {\n",
       "        vertical-align: middle;\n",
       "    }\n",
       "\n",
       "    .dataframe tbody tr th {\n",
       "        vertical-align: top;\n",
       "    }\n",
       "\n",
       "    .dataframe thead th {\n",
       "        text-align: right;\n",
       "    }\n",
       "</style>\n",
       "<table border=\"1\" class=\"dataframe\">\n",
       "  <thead>\n",
       "    <tr style=\"text-align: right;\">\n",
       "      <th></th>\n",
       "      <th>ISE</th>\n",
       "      <th>SP</th>\n",
       "      <th>DAX</th>\n",
       "      <th>FTSE</th>\n",
       "      <th>NIKKEI</th>\n",
       "      <th>BOVESPA</th>\n",
       "      <th>EU</th>\n",
       "      <th>EM</th>\n",
       "    </tr>\n",
       "  </thead>\n",
       "  <tbody>\n",
       "    <tr>\n",
       "      <th>0</th>\n",
       "      <td>0.038376</td>\n",
       "      <td>-0.004679</td>\n",
       "      <td>0.002193</td>\n",
       "      <td>0.003894</td>\n",
       "      <td>0.000000</td>\n",
       "      <td>0.031190</td>\n",
       "      <td>0.012698</td>\n",
       "      <td>0.028524</td>\n",
       "    </tr>\n",
       "    <tr>\n",
       "      <th>1</th>\n",
       "      <td>0.031813</td>\n",
       "      <td>0.007787</td>\n",
       "      <td>0.008455</td>\n",
       "      <td>0.012866</td>\n",
       "      <td>0.004162</td>\n",
       "      <td>0.018920</td>\n",
       "      <td>0.011341</td>\n",
       "      <td>0.008773</td>\n",
       "    </tr>\n",
       "    <tr>\n",
       "      <th>2</th>\n",
       "      <td>-0.026353</td>\n",
       "      <td>-0.030469</td>\n",
       "      <td>-0.017833</td>\n",
       "      <td>-0.028735</td>\n",
       "      <td>0.017293</td>\n",
       "      <td>-0.035899</td>\n",
       "      <td>-0.017073</td>\n",
       "      <td>-0.020015</td>\n",
       "    </tr>\n",
       "    <tr>\n",
       "      <th>3</th>\n",
       "      <td>-0.084716</td>\n",
       "      <td>0.003391</td>\n",
       "      <td>-0.011726</td>\n",
       "      <td>-0.000466</td>\n",
       "      <td>-0.040061</td>\n",
       "      <td>0.028283</td>\n",
       "      <td>-0.005561</td>\n",
       "      <td>-0.019424</td>\n",
       "    </tr>\n",
       "    <tr>\n",
       "      <th>4</th>\n",
       "      <td>0.009658</td>\n",
       "      <td>-0.021533</td>\n",
       "      <td>-0.019873</td>\n",
       "      <td>-0.012710</td>\n",
       "      <td>-0.004474</td>\n",
       "      <td>-0.009764</td>\n",
       "      <td>-0.010989</td>\n",
       "      <td>-0.007802</td>\n",
       "    </tr>\n",
       "    <tr>\n",
       "      <th>...</th>\n",
       "      <td>...</td>\n",
       "      <td>...</td>\n",
       "      <td>...</td>\n",
       "      <td>...</td>\n",
       "      <td>...</td>\n",
       "      <td>...</td>\n",
       "      <td>...</td>\n",
       "      <td>...</td>\n",
       "    </tr>\n",
       "    <tr>\n",
       "      <th>531</th>\n",
       "      <td>0.013400</td>\n",
       "      <td>0.006238</td>\n",
       "      <td>0.001925</td>\n",
       "      <td>0.007952</td>\n",
       "      <td>0.005717</td>\n",
       "      <td>0.018371</td>\n",
       "      <td>0.006975</td>\n",
       "      <td>0.003039</td>\n",
       "    </tr>\n",
       "    <tr>\n",
       "      <th>532</th>\n",
       "      <td>0.015977</td>\n",
       "      <td>0.003071</td>\n",
       "      <td>-0.001186</td>\n",
       "      <td>0.000345</td>\n",
       "      <td>0.002620</td>\n",
       "      <td>0.001686</td>\n",
       "      <td>-0.000581</td>\n",
       "      <td>0.001039</td>\n",
       "    </tr>\n",
       "    <tr>\n",
       "      <th>533</th>\n",
       "      <td>-0.001653</td>\n",
       "      <td>0.001923</td>\n",
       "      <td>0.002872</td>\n",
       "      <td>-0.000723</td>\n",
       "      <td>0.000568</td>\n",
       "      <td>0.005628</td>\n",
       "      <td>0.000572</td>\n",
       "      <td>0.006938</td>\n",
       "    </tr>\n",
       "    <tr>\n",
       "      <th>534</th>\n",
       "      <td>-0.013706</td>\n",
       "      <td>-0.020742</td>\n",
       "      <td>-0.014239</td>\n",
       "      <td>-0.011275</td>\n",
       "      <td>0.001358</td>\n",
       "      <td>-0.011942</td>\n",
       "      <td>-0.012615</td>\n",
       "      <td>-0.000958</td>\n",
       "    </tr>\n",
       "    <tr>\n",
       "      <th>535</th>\n",
       "      <td>-0.019442</td>\n",
       "      <td>0.000000</td>\n",
       "      <td>-0.000473</td>\n",
       "      <td>-0.002997</td>\n",
       "      <td>-0.017920</td>\n",
       "      <td>-0.012252</td>\n",
       "      <td>-0.005465</td>\n",
       "      <td>-0.014297</td>\n",
       "    </tr>\n",
       "  </tbody>\n",
       "</table>\n",
       "<p>536 rows × 8 columns</p>\n",
       "</div>"
      ],
      "text/plain": [
       "          ISE        SP       DAX      FTSE    NIKKEI   BOVESPA        EU  \\\n",
       "0    0.038376 -0.004679  0.002193  0.003894  0.000000  0.031190  0.012698   \n",
       "1    0.031813  0.007787  0.008455  0.012866  0.004162  0.018920  0.011341   \n",
       "2   -0.026353 -0.030469 -0.017833 -0.028735  0.017293 -0.035899 -0.017073   \n",
       "3   -0.084716  0.003391 -0.011726 -0.000466 -0.040061  0.028283 -0.005561   \n",
       "4    0.009658 -0.021533 -0.019873 -0.012710 -0.004474 -0.009764 -0.010989   \n",
       "..        ...       ...       ...       ...       ...       ...       ...   \n",
       "531  0.013400  0.006238  0.001925  0.007952  0.005717  0.018371  0.006975   \n",
       "532  0.015977  0.003071 -0.001186  0.000345  0.002620  0.001686 -0.000581   \n",
       "533 -0.001653  0.001923  0.002872 -0.000723  0.000568  0.005628  0.000572   \n",
       "534 -0.013706 -0.020742 -0.014239 -0.011275  0.001358 -0.011942 -0.012615   \n",
       "535 -0.019442  0.000000 -0.000473 -0.002997 -0.017920 -0.012252 -0.005465   \n",
       "\n",
       "           EM  \n",
       "0    0.028524  \n",
       "1    0.008773  \n",
       "2   -0.020015  \n",
       "3   -0.019424  \n",
       "4   -0.007802  \n",
       "..        ...  \n",
       "531  0.003039  \n",
       "532  0.001039  \n",
       "533  0.006938  \n",
       "534 -0.000958  \n",
       "535 -0.014297  \n",
       "\n",
       "[536 rows x 8 columns]"
      ]
     },
     "execution_count": 3,
     "metadata": {},
     "output_type": "execute_result"
    }
   ],
   "source": [
    "#displaying the dataset\n",
    "data"
   ]
  },
  {
   "cell_type": "markdown",
   "id": "84292628",
   "metadata": {},
   "source": [
    "# Basic checks on the dataset"
   ]
  },
  {
   "cell_type": "code",
   "execution_count": 4,
   "id": "7c24c06e",
   "metadata": {},
   "outputs": [
    {
     "data": {
      "text/plain": [
       "(536, 8)"
      ]
     },
     "execution_count": 4,
     "metadata": {},
     "output_type": "execute_result"
    }
   ],
   "source": [
    "data.shape"
   ]
  },
  {
   "cell_type": "markdown",
   "id": "27a9c594",
   "metadata": {},
   "source": [
    "There are 536 rows and 8 columns."
   ]
  },
  {
   "cell_type": "code",
   "execution_count": 5,
   "id": "8c7c4454",
   "metadata": {},
   "outputs": [
    {
     "data": {
      "text/plain": [
       "Index(['ISE', 'SP', 'DAX', 'FTSE', 'NIKKEI', 'BOVESPA', 'EU', 'EM'], dtype='object')"
      ]
     },
     "execution_count": 5,
     "metadata": {},
     "output_type": "execute_result"
    }
   ],
   "source": [
    "data.columns"
   ]
  },
  {
   "cell_type": "code",
   "execution_count": 6,
   "id": "0e4af14e",
   "metadata": {},
   "outputs": [
    {
     "data": {
      "text/plain": [
       "ISE        float64\n",
       "SP         float64\n",
       "DAX        float64\n",
       "FTSE       float64\n",
       "NIKKEI     float64\n",
       "BOVESPA    float64\n",
       "EU         float64\n",
       "EM         float64\n",
       "dtype: object"
      ]
     },
     "execution_count": 6,
     "metadata": {},
     "output_type": "execute_result"
    }
   ],
   "source": [
    "data.dtypes"
   ]
  },
  {
   "cell_type": "markdown",
   "id": "32d6db40",
   "metadata": {},
   "source": [
    "All the datatypes are float in our dataset"
   ]
  },
  {
   "cell_type": "code",
   "execution_count": 7,
   "id": "7c7bfb35",
   "metadata": {},
   "outputs": [
    {
     "name": "stdout",
     "output_type": "stream",
     "text": [
      "<class 'pandas.core.frame.DataFrame'>\n",
      "RangeIndex: 536 entries, 0 to 535\n",
      "Data columns (total 8 columns):\n",
      " #   Column   Non-Null Count  Dtype  \n",
      "---  ------   --------------  -----  \n",
      " 0   ISE      536 non-null    float64\n",
      " 1   SP       536 non-null    float64\n",
      " 2   DAX      536 non-null    float64\n",
      " 3   FTSE     536 non-null    float64\n",
      " 4   NIKKEI   536 non-null    float64\n",
      " 5   BOVESPA  536 non-null    float64\n",
      " 6   EU       536 non-null    float64\n",
      " 7   EM       536 non-null    float64\n",
      "dtypes: float64(8)\n",
      "memory usage: 33.6 KB\n"
     ]
    }
   ],
   "source": [
    "data.info()"
   ]
  },
  {
   "cell_type": "markdown",
   "id": "528a64e2",
   "metadata": {},
   "source": [
    "# Evaluation of the dataset"
   ]
  },
  {
   "cell_type": "markdown",
   "id": "2fbcd25c",
   "metadata": {},
   "source": [
    "Our dataset is being evaluated by testing for , non-linearity, normality and multicollinearity using the methods below. "
   ]
  },
  {
   "cell_type": "markdown",
   "id": "435d056f",
   "metadata": {},
   "source": [
    "# Checking for non-linearity"
   ]
  },
  {
   "cell_type": "markdown",
   "id": "39ef17a5",
   "metadata": {},
   "source": [
    "The heatmap is being used to test for non-linearity"
   ]
  },
  {
   "cell_type": "code",
   "execution_count": 8,
   "id": "57aba547",
   "metadata": {},
   "outputs": [
    {
     "data": {
      "text/plain": [
       "<AxesSubplot:>"
      ]
     },
     "execution_count": 8,
     "metadata": {},
     "output_type": "execute_result"
    },
    {
     "data": {
      "image/png": "[encoded data removed]",
      "text/plain": [
       "<Figure size 432x288 with 2 Axes>"
      ]
     },
     "metadata": {
      "needs_background": "light"
     },
     "output_type": "display_data"
    }
   ],
   "source": [
    "#finding the correlations rounded to two\n",
    "ht=data.corr().round(2)\n",
    "#displaying the heatmap \n",
    "sns.heatmap(ht, annot=True)"
   ]
  },
  {
   "cell_type": "markdown",
   "id": "26995846",
   "metadata": {},
   "source": [
    "A linear relationship between the dependent and independent variables is not assumed by LR, nor are normally distributed error terms. Heatmap shows the output of the dependent variable (ISE) and the seven independent variables. The largest correlation coefficient between the dependent variable and the independent variables is 0.70. This 0.70 correlation coefficient is between ISE and EM. Any correlation coefficient above 0.75 is considered as a strong correlation. There is no correlation coefficient above 0.75 meaning that there is no dependent variable that shows a stronger linear relationship with dependent variable ISE. Therefore, the non-linearity assumption is not violated. "
   ]
  },
  {
   "cell_type": "markdown",
   "id": "abc65df5",
   "metadata": {},
   "source": [
    "# Normality Test"
   ]
  },
  {
   "cell_type": "markdown",
   "id": "02672a94",
   "metadata": {},
   "source": [
    "To determine if a collection of data might have originated from a theoretical distribution, one uses a Q-Q plot. Most of the time, this kind of plot is employed to assess the normality of a set of data. A Q-Q plot's points will fall along a straight diagonal line if the data are normally distributed.  "
   ]
  },
  {
   "cell_type": "code",
   "execution_count": 9,
   "id": "1cfe6703",
   "metadata": {},
   "outputs": [
    {
     "data": {
      "image/png": "[encoded data removed]",
      "text/plain": [
       "<Figure size 432x288 with 1 Axes>"
      ]
     },
     "metadata": {
      "needs_background": "light"
     },
     "output_type": "display_data"
    }
   ],
   "source": [
    "#importing the library statsmodel\n",
    "import statsmodels.api as sm\n",
    "#Q-Q plot for the normality test\n",
    "fig = sm.qqplot(data, line='45')"
   ]
  },
  {
   "cell_type": "markdown",
   "id": "5f486bb1",
   "metadata": {},
   "source": [
    "The points of the Q-Q plot do not lie on the diagonal; hence the data is not normally distributed. "
   ]
  },
  {
   "cell_type": "markdown",
   "id": "47e235a5",
   "metadata": {},
   "source": [
    "# Multicollinearity Test "
   ]
  },
  {
   "cell_type": "markdown",
   "id": "b83c56a3",
   "metadata": {},
   "source": [
    "Variance Inflation Factor (VIF) of the variables is used to check for multicollinearity. If VIF of the variable is greater than ten it means that there is multicollinearity. "
   ]
  },
  {
   "cell_type": "code",
   "execution_count": 10,
   "id": "b685be63",
   "metadata": {},
   "outputs": [],
   "source": [
    "X = data.loc[:, list(data.columns)[1:8]]"
   ]
  },
  {
   "cell_type": "code",
   "execution_count": 11,
   "id": "7a1f73af",
   "metadata": {},
   "outputs": [],
   "source": [
    "#finding variance inflation factor\n",
    "from statsmodels.stats.outliers_influence import variance_inflation_factor\n",
    "vif_scores = pd.DataFrame() \n",
    "vif_scores[\"Attribute\"] = X.columns "
   ]
  },
  {
   "cell_type": "code",
   "execution_count": 12,
   "id": "b9572a96",
   "metadata": {},
   "outputs": [
    {
     "data": {
      "text/html": [
       "<div>\n",
       "<style scoped>\n",
       "    .dataframe tbody tr th:only-of-type {\n",
       "        vertical-align: middle;\n",
       "    }\n",
       "\n",
       "    .dataframe tbody tr th {\n",
       "        vertical-align: top;\n",
       "    }\n",
       "\n",
       "    .dataframe thead th {\n",
       "        text-align: right;\n",
       "    }\n",
       "</style>\n",
       "<table border=\"1\" class=\"dataframe\">\n",
       "  <thead>\n",
       "    <tr style=\"text-align: right;\">\n",
       "      <th></th>\n",
       "      <th>Attribute</th>\n",
       "      <th>VIF Scores</th>\n",
       "    </tr>\n",
       "  </thead>\n",
       "  <tbody>\n",
       "    <tr>\n",
       "      <th>0</th>\n",
       "      <td>SP</td>\n",
       "      <td>2.817907</td>\n",
       "    </tr>\n",
       "    <tr>\n",
       "      <th>1</th>\n",
       "      <td>DAX</td>\n",
       "      <td>8.758039</td>\n",
       "    </tr>\n",
       "    <tr>\n",
       "      <th>2</th>\n",
       "      <td>FTSE</td>\n",
       "      <td>10.557434</td>\n",
       "    </tr>\n",
       "    <tr>\n",
       "      <th>3</th>\n",
       "      <td>NIKKEI</td>\n",
       "      <td>1.637442</td>\n",
       "    </tr>\n",
       "    <tr>\n",
       "      <th>4</th>\n",
       "      <td>BOVESPA</td>\n",
       "      <td>3.142888</td>\n",
       "    </tr>\n",
       "    <tr>\n",
       "      <th>5</th>\n",
       "      <td>EU</td>\n",
       "      <td>21.996661</td>\n",
       "    </tr>\n",
       "    <tr>\n",
       "      <th>6</th>\n",
       "      <td>EM</td>\n",
       "      <td>3.985694</td>\n",
       "    </tr>\n",
       "  </tbody>\n",
       "</table>\n",
       "</div>"
      ],
      "text/plain": [
       "  Attribute  VIF Scores\n",
       "0        SP    2.817907\n",
       "1       DAX    8.758039\n",
       "2      FTSE   10.557434\n",
       "3    NIKKEI    1.637442\n",
       "4   BOVESPA    3.142888\n",
       "5        EU   21.996661\n",
       "6        EM    3.985694"
      ]
     },
     "metadata": {},
     "output_type": "display_data"
    }
   ],
   "source": [
    "#locating the VIF scores in the X columns of our datasets\n",
    "vif_scores[\"VIF Scores\"] = [variance_inflation_factor(X.values, i) for i in range(len(X.columns))]\n",
    "#displaying the VIF scores\n",
    "display(vif_scores)"
   ]
  },
  {
   "cell_type": "markdown",
   "id": "029d8aa2",
   "metadata": {},
   "source": [
    "The VIF score of FTSE is 10.557434 > 10 and of EU is 21.996661 > 10. This shows that the two attributes/variables the EU and the FTSE are highly correlated, meaning they have a mutual relationship or connection. The attribute FTSE is London Stock Exchange and EU is MSCI Europe Index. FTSE is in London and London is in Europe. These attributes depend on each other. Hence when talking of EU indices, should include all indices in Europe. Thus, the connection between FSTE and EU is extremely high that is why there is multicollinearity between the two variables which is a problem. The two variables are drop in building the Logistic Regression."
   ]
  },
  {
   "cell_type": "code",
   "execution_count": 13,
   "id": "04a3905e",
   "metadata": {},
   "outputs": [
    {
     "data": {
      "text/plain": [
       "0.0026426354999999997"
      ]
     },
     "execution_count": 13,
     "metadata": {},
     "output_type": "execute_result"
    }
   ],
   "source": [
    "#finding the median of the dependent variable ISE\n",
    "data.loc[:,'ISE'].median()"
   ]
  },
  {
   "cell_type": "code",
   "execution_count": 14,
   "id": "506aa41c",
   "metadata": {},
   "outputs": [],
   "source": [
    "#coverting the dependent ISE variable to binary form \n",
    "data.loc[data['ISE'] < 0.0026426354999999997, 'ISE'] = 0\n",
    "data.loc[data['ISE'] >=0.0026426354999999997 , 'ISE'] = 1"
   ]
  },
  {
   "cell_type": "code",
   "execution_count": 15,
   "id": "65f940ed",
   "metadata": {},
   "outputs": [
    {
     "data": {
      "text/html": [
       "<div>\n",
       "<style scoped>\n",
       "    .dataframe tbody tr th:only-of-type {\n",
       "        vertical-align: middle;\n",
       "    }\n",
       "\n",
       "    .dataframe tbody tr th {\n",
       "        vertical-align: top;\n",
       "    }\n",
       "\n",
       "    .dataframe thead th {\n",
       "        text-align: right;\n",
       "    }\n",
       "</style>\n",
       "<table border=\"1\" class=\"dataframe\">\n",
       "  <thead>\n",
       "    <tr style=\"text-align: right;\">\n",
       "      <th></th>\n",
       "      <th>ISE</th>\n",
       "      <th>SP</th>\n",
       "      <th>DAX</th>\n",
       "      <th>FTSE</th>\n",
       "      <th>NIKKEI</th>\n",
       "      <th>BOVESPA</th>\n",
       "      <th>EU</th>\n",
       "      <th>EM</th>\n",
       "    </tr>\n",
       "  </thead>\n",
       "  <tbody>\n",
       "    <tr>\n",
       "      <th>0</th>\n",
       "      <td>1.0</td>\n",
       "      <td>-0.004679</td>\n",
       "      <td>0.002193</td>\n",
       "      <td>0.003894</td>\n",
       "      <td>0.000000</td>\n",
       "      <td>0.031190</td>\n",
       "      <td>0.012698</td>\n",
       "      <td>0.028524</td>\n",
       "    </tr>\n",
       "    <tr>\n",
       "      <th>1</th>\n",
       "      <td>1.0</td>\n",
       "      <td>0.007787</td>\n",
       "      <td>0.008455</td>\n",
       "      <td>0.012866</td>\n",
       "      <td>0.004162</td>\n",
       "      <td>0.018920</td>\n",
       "      <td>0.011341</td>\n",
       "      <td>0.008773</td>\n",
       "    </tr>\n",
       "    <tr>\n",
       "      <th>2</th>\n",
       "      <td>0.0</td>\n",
       "      <td>-0.030469</td>\n",
       "      <td>-0.017833</td>\n",
       "      <td>-0.028735</td>\n",
       "      <td>0.017293</td>\n",
       "      <td>-0.035899</td>\n",
       "      <td>-0.017073</td>\n",
       "      <td>-0.020015</td>\n",
       "    </tr>\n",
       "    <tr>\n",
       "      <th>3</th>\n",
       "      <td>0.0</td>\n",
       "      <td>0.003391</td>\n",
       "      <td>-0.011726</td>\n",
       "      <td>-0.000466</td>\n",
       "      <td>-0.040061</td>\n",
       "      <td>0.028283</td>\n",
       "      <td>-0.005561</td>\n",
       "      <td>-0.019424</td>\n",
       "    </tr>\n",
       "    <tr>\n",
       "      <th>4</th>\n",
       "      <td>1.0</td>\n",
       "      <td>-0.021533</td>\n",
       "      <td>-0.019873</td>\n",
       "      <td>-0.012710</td>\n",
       "      <td>-0.004474</td>\n",
       "      <td>-0.009764</td>\n",
       "      <td>-0.010989</td>\n",
       "      <td>-0.007802</td>\n",
       "    </tr>\n",
       "    <tr>\n",
       "      <th>...</th>\n",
       "      <td>...</td>\n",
       "      <td>...</td>\n",
       "      <td>...</td>\n",
       "      <td>...</td>\n",
       "      <td>...</td>\n",
       "      <td>...</td>\n",
       "      <td>...</td>\n",
       "      <td>...</td>\n",
       "    </tr>\n",
       "    <tr>\n",
       "      <th>531</th>\n",
       "      <td>1.0</td>\n",
       "      <td>0.006238</td>\n",
       "      <td>0.001925</td>\n",
       "      <td>0.007952</td>\n",
       "      <td>0.005717</td>\n",
       "      <td>0.018371</td>\n",
       "      <td>0.006975</td>\n",
       "      <td>0.003039</td>\n",
       "    </tr>\n",
       "    <tr>\n",
       "      <th>532</th>\n",
       "      <td>1.0</td>\n",
       "      <td>0.003071</td>\n",
       "      <td>-0.001186</td>\n",
       "      <td>0.000345</td>\n",
       "      <td>0.002620</td>\n",
       "      <td>0.001686</td>\n",
       "      <td>-0.000581</td>\n",
       "      <td>0.001039</td>\n",
       "    </tr>\n",
       "    <tr>\n",
       "      <th>533</th>\n",
       "      <td>0.0</td>\n",
       "      <td>0.001923</td>\n",
       "      <td>0.002872</td>\n",
       "      <td>-0.000723</td>\n",
       "      <td>0.000568</td>\n",
       "      <td>0.005628</td>\n",
       "      <td>0.000572</td>\n",
       "      <td>0.006938</td>\n",
       "    </tr>\n",
       "    <tr>\n",
       "      <th>534</th>\n",
       "      <td>0.0</td>\n",
       "      <td>-0.020742</td>\n",
       "      <td>-0.014239</td>\n",
       "      <td>-0.011275</td>\n",
       "      <td>0.001358</td>\n",
       "      <td>-0.011942</td>\n",
       "      <td>-0.012615</td>\n",
       "      <td>-0.000958</td>\n",
       "    </tr>\n",
       "    <tr>\n",
       "      <th>535</th>\n",
       "      <td>0.0</td>\n",
       "      <td>0.000000</td>\n",
       "      <td>-0.000473</td>\n",
       "      <td>-0.002997</td>\n",
       "      <td>-0.017920</td>\n",
       "      <td>-0.012252</td>\n",
       "      <td>-0.005465</td>\n",
       "      <td>-0.014297</td>\n",
       "    </tr>\n",
       "  </tbody>\n",
       "</table>\n",
       "<p>536 rows × 8 columns</p>\n",
       "</div>"
      ],
      "text/plain": [
       "     ISE        SP       DAX      FTSE    NIKKEI   BOVESPA        EU        EM\n",
       "0    1.0 -0.004679  0.002193  0.003894  0.000000  0.031190  0.012698  0.028524\n",
       "1    1.0  0.007787  0.008455  0.012866  0.004162  0.018920  0.011341  0.008773\n",
       "2    0.0 -0.030469 -0.017833 -0.028735  0.017293 -0.035899 -0.017073 -0.020015\n",
       "3    0.0  0.003391 -0.011726 -0.000466 -0.040061  0.028283 -0.005561 -0.019424\n",
       "4    1.0 -0.021533 -0.019873 -0.012710 -0.004474 -0.009764 -0.010989 -0.007802\n",
       "..   ...       ...       ...       ...       ...       ...       ...       ...\n",
       "531  1.0  0.006238  0.001925  0.007952  0.005717  0.018371  0.006975  0.003039\n",
       "532  1.0  0.003071 -0.001186  0.000345  0.002620  0.001686 -0.000581  0.001039\n",
       "533  0.0  0.001923  0.002872 -0.000723  0.000568  0.005628  0.000572  0.006938\n",
       "534  0.0 -0.020742 -0.014239 -0.011275  0.001358 -0.011942 -0.012615 -0.000958\n",
       "535  0.0  0.000000 -0.000473 -0.002997 -0.017920 -0.012252 -0.005465 -0.014297\n",
       "\n",
       "[536 rows x 8 columns]"
      ]
     },
     "execution_count": 15,
     "metadata": {},
     "output_type": "execute_result"
    }
   ],
   "source": [
    "data"
   ]
  },
  {
   "cell_type": "code",
   "execution_count": 16,
   "id": "a6c13d2e",
   "metadata": {},
   "outputs": [
    {
     "name": "stdout",
     "output_type": "stream",
     "text": [
      "False\n"
     ]
    }
   ],
   "source": [
    "#checking for missing values in the dataset\n",
    "print(data.isnull().values.any())"
   ]
  },
  {
   "cell_type": "code",
   "execution_count": 17,
   "id": "e54c93aa",
   "metadata": {},
   "outputs": [
    {
     "data": {
      "text/plain": [
       "<AxesSubplot:xlabel='ISE', ylabel='count'>"
      ]
     },
     "execution_count": 17,
     "metadata": {},
     "output_type": "execute_result"
    },
    {
     "data": {
      "image/png": "[encoded data removed]",
      "text/plain": [
       "<Figure size 432x288 with 1 Axes>"
      ]
     },
     "metadata": {
      "needs_background": "light"
     },
     "output_type": "display_data"
    }
   ],
   "source": [
    "#checking how the dependent variable in binary form is balanced\n",
    "sns.countplot(x ='ISE', data = data)"
   ]
  },
  {
   "cell_type": "code",
   "execution_count": 18,
   "id": "d300fddb",
   "metadata": {},
   "outputs": [],
   "source": [
    "#finding the coefficients of the logistic regression\n",
    "Xtrain = data[['SP', 'DAX', 'BOVESPA','EM','NIKKEI']]\n",
    "ytrain = data[['ISE']]"
   ]
  },
  {
   "cell_type": "code",
   "execution_count": 19,
   "id": "5b1247db",
   "metadata": {},
   "outputs": [
    {
     "name": "stdout",
     "output_type": "stream",
     "text": [
      "Optimization terminated successfully.\n",
      "         Current function value: 0.468641\n",
      "         Iterations 7\n"
     ]
    }
   ],
   "source": [
    "#fitting the logistic regression\n",
    "log_reg = sm.Logit(ytrain, Xtrain).fit()"
   ]
  },
  {
   "cell_type": "code",
   "execution_count": 20,
   "id": "b364139e",
   "metadata": {},
   "outputs": [
    {
     "name": "stdout",
     "output_type": "stream",
     "text": [
      "                           Logit Regression Results                           \n",
      "==============================================================================\n",
      "Dep. Variable:                    ISE   No. Observations:                  536\n",
      "Model:                          Logit   Df Residuals:                      531\n",
      "Method:                           MLE   Df Model:                            4\n",
      "Date:                Sun, 29 Oct 2023   Pseudo R-squ.:                  0.3239\n",
      "Time:                        15:48:59   Log-Likelihood:                -251.19\n",
      "converged:                       True   LL-Null:                       -371.53\n",
      "Covariance Type:            nonrobust   LLR p-value:                 6.653e-51\n",
      "==============================================================================\n",
      "                 coef    std err          z      P>|z|      [0.025      0.975]\n",
      "------------------------------------------------------------------------------\n",
      "SP             9.2616     14.507      0.638      0.523     -19.172      37.695\n",
      "DAX           49.9303     13.477      3.705      0.000      23.515      76.345\n",
      "BOVESPA      -38.0663     13.963     -2.726      0.006     -65.433     -10.699\n",
      "EM           191.7462     25.324      7.572      0.000     142.112     241.380\n",
      "NIKKEI         1.0183      9.813      0.104      0.917     -18.216      20.252\n",
      "==============================================================================\n"
     ]
    }
   ],
   "source": [
    "#displaying the summary table of the logistic regression\n",
    "print(log_reg.summary())"
   ]
  },
  {
   "cell_type": "markdown",
   "id": "c25fbfec",
   "metadata": {},
   "source": [
    "# Coefficients of the Model and their Significance"
   ]
  },
  {
   "cell_type": "markdown",
   "id": "c19f9275",
   "metadata": {},
   "source": [
    "A significant variable is a variable that has its p-value less than 0.05. The coefficient of the SP is not statistically significant because its p-value > 0.05. Pertaining to the coefficient DAX, it is statistically significant since its p-value < 0.05. BOVESPA is another coefficient in our model, and it is statistically significant since its p-value < 0.05.  EM again is another coefficient on the model that is statistically significant since its p-value < 0.05. Lastly, the NIKKEI is the other coefficient. This coefficient is not statistically. Its p-value > 0.05. \n"
   ]
  },
  {
   "cell_type": "markdown",
   "id": "ee6ca3e8",
   "metadata": {},
   "source": [
    "# Model Adequacy"
   ]
  },
  {
   "cell_type": "markdown",
   "id": "28681a71",
   "metadata": {},
   "source": [
    "For the LR model's residuals to be meaningful, they must be converted. The dependent variable is binary. The residuals will not have a normal distribution because the outcome is binary, and it is unclear how they will be dispersed. Depending on the assessment, the residuals are either deviance residuals, studentized Pearson residuals, or Pearson residuals.  A Lowess smoothed plot of the studentized Pearson residuals, or the deviance residuals, against the predicted probability or linear predictor values is used to diagnose a LR model. \n",
    "Measurement mistakes, ambiguous initial and boundary conditions, and other uncertainties can all affect mathematical models of physical systems. When these uncertainties are considered, it is frequently found that there are still differences between the model output and the observations; in this case, the model is said to be inadequate.\n",
    "A Lowess smoothed plot of the studentized Pearson residuals, or the deviance residuals, against the predicted probability or linear predictor values is used to diagnose a logistic regression model. Nachtsheim et. al., 2004 demonstrate that if the logistic regression model is accurate, then the error (difference) between the actual value and the predicted value Y_i and predicted value П_i^ᶺ is equal to 0, i.e.,  Y_i-П_i^ᶺ=0                                                                    \n",
    "Graphs below are the Logistic Regression Residual Plots Using Seaborn Lowess Line (N=400) to show whether the LR model is adequate or not. \n"
   ]
  },
  {
   "cell_type": "code",
   "execution_count": 21,
   "id": "36bc328d",
   "metadata": {},
   "outputs": [
    {
     "name": "stderr",
     "output_type": "stream",
     "text": [
      "C:\\Users\\MuvirimiT\\miniconda3\\lib\\site-packages\\seaborn\\_decorators.py:36: FutureWarning: Pass the following variables as keyword args: x, y. From version 0.12, the only valid positional argument will be `data`, and passing other arguments without an explicit keyword will result in an error or misinterpretation.\n",
      "  warnings.warn(\n",
      "C:\\Users\\MuvirimiT\\miniconda3\\lib\\site-packages\\seaborn\\_decorators.py:36: FutureWarning: Pass the following variables as keyword args: x, y. From version 0.12, the only valid positional argument will be `data`, and passing other arguments without an explicit keyword will result in an error or misinterpretation.\n",
      "  warnings.warn(\n"
     ]
    },
    {
     "data": {
      "image/png": "[encoded data removed]",
      "text/plain": [
       "<Figure size 1080x1080 with 2 Axes>"
      ]
     },
     "metadata": {
      "needs_background": "light"
     },
     "output_type": "display_data"
    }
   ],
   "source": [
    "#the residual plots, deviance residual and the stundentized pearson residual \n",
    "fig, (axL, axR) = plt.subplots(2, figsize=(15, 15))\n",
    "plt.suptitle(\"Logistic Regression Residual Plots \\n using Seaborn Lowess line (N = 400)\")\n",
    "sns.regplot(log_reg.fittedvalues, log_reg.resid_dev, ax= axL,\n",
    "            color=\"black\", scatter_kws={\"s\": 5},\n",
    "            line_kws={\"color\":\"b\", \"alpha\":1, \"lw\":2}, lowess=True)\n",
    "\n",
    "axL.set_title(\"Deviance Residuals \\n against Fitted Values\")\n",
    "axL.set_xlabel(\"Linear Predictor Values\")\n",
    "axL.set_ylabel(\"Deviance Residuals\")\n",
    "sns.regplot(log_reg.fittedvalues, log_reg.resid_pearson, ax= axR,\n",
    "            color=\"black\", scatter_kws={\"s\": 5},\n",
    "            line_kws={\"color\":\"g\", \"alpha\":1, \"lw\":2}, lowess=True)\n",
    "\n",
    "axR.set_title(\"Studentized Pearson Residuals \\n against Fitted Values\")\n",
    "axR.set_xlabel(\"Linear Predictor Values\")\n",
    "axR.set_ylabel(\"Studentized Pearson Residuals\")\n",
    "\n",
    "plt.show()"
   ]
  },
  {
   "cell_type": "markdown",
   "id": "47fdbd7f",
   "metadata": {},
   "source": [
    "The graphs above is for the Standardized Pearson Residuals and do approximate horizontal line with 0 intercept. This suggests that there is no significant model inadequacy."
   ]
  },
  {
   "cell_type": "code",
   "execution_count": 22,
   "id": "a1f31a51",
   "metadata": {},
   "outputs": [],
   "source": [
    "#selecting the dependent variable ISE\n",
    "y=data['ISE']"
   ]
  },
  {
   "cell_type": "code",
   "execution_count": 23,
   "id": "08ac8f51",
   "metadata": {},
   "outputs": [
    {
     "data": {
      "text/plain": [
       "0    1.0\n",
       "1    1.0\n",
       "2    0.0\n",
       "3    0.0\n",
       "4    1.0\n",
       "Name: ISE, dtype: float64"
      ]
     },
     "execution_count": 23,
     "metadata": {},
     "output_type": "execute_result"
    }
   ],
   "source": [
    "#displaying the first five rows of the ISE\n",
    "y.head()"
   ]
  },
  {
   "cell_type": "markdown",
   "id": "4d5d8667",
   "metadata": {},
   "source": [
    "# Selection of the variables DAX, BOVESPA and EM which are statistically significant to be fed into the artificial deep neural network (ADNN)."
   ]
  },
  {
   "cell_type": "code",
   "execution_count": 24,
   "id": "23c90d22",
   "metadata": {},
   "outputs": [],
   "source": [
    "#taking only the statistically significant variables\n",
    "X = data.loc[:, ['DAX', 'BOVESPA', 'EM']]"
   ]
  },
  {
   "cell_type": "code",
   "execution_count": 25,
   "id": "9f48cb8f",
   "metadata": {},
   "outputs": [
    {
     "data": {
      "text/html": [
       "<div>\n",
       "<style scoped>\n",
       "    .dataframe tbody tr th:only-of-type {\n",
       "        vertical-align: middle;\n",
       "    }\n",
       "\n",
       "    .dataframe tbody tr th {\n",
       "        vertical-align: top;\n",
       "    }\n",
       "\n",
       "    .dataframe thead th {\n",
       "        text-align: right;\n",
       "    }\n",
       "</style>\n",
       "<table border=\"1\" class=\"dataframe\">\n",
       "  <thead>\n",
       "    <tr style=\"text-align: right;\">\n",
       "      <th></th>\n",
       "      <th>DAX</th>\n",
       "      <th>BOVESPA</th>\n",
       "      <th>EM</th>\n",
       "    </tr>\n",
       "  </thead>\n",
       "  <tbody>\n",
       "    <tr>\n",
       "      <th>0</th>\n",
       "      <td>0.002193</td>\n",
       "      <td>0.031190</td>\n",
       "      <td>0.028524</td>\n",
       "    </tr>\n",
       "    <tr>\n",
       "      <th>1</th>\n",
       "      <td>0.008455</td>\n",
       "      <td>0.018920</td>\n",
       "      <td>0.008773</td>\n",
       "    </tr>\n",
       "    <tr>\n",
       "      <th>2</th>\n",
       "      <td>-0.017833</td>\n",
       "      <td>-0.035899</td>\n",
       "      <td>-0.020015</td>\n",
       "    </tr>\n",
       "    <tr>\n",
       "      <th>3</th>\n",
       "      <td>-0.011726</td>\n",
       "      <td>0.028283</td>\n",
       "      <td>-0.019424</td>\n",
       "    </tr>\n",
       "    <tr>\n",
       "      <th>4</th>\n",
       "      <td>-0.019873</td>\n",
       "      <td>-0.009764</td>\n",
       "      <td>-0.007802</td>\n",
       "    </tr>\n",
       "  </tbody>\n",
       "</table>\n",
       "</div>"
      ],
      "text/plain": [
       "        DAX   BOVESPA        EM\n",
       "0  0.002193  0.031190  0.028524\n",
       "1  0.008455  0.018920  0.008773\n",
       "2 -0.017833 -0.035899 -0.020015\n",
       "3 -0.011726  0.028283 -0.019424\n",
       "4 -0.019873 -0.009764 -0.007802"
      ]
     },
     "execution_count": 25,
     "metadata": {},
     "output_type": "execute_result"
    }
   ],
   "source": [
    "#displaying on the variables of the five rows of the statistically significant \n",
    "X.head()"
   ]
  },
  {
   "cell_type": "code",
   "execution_count": 26,
   "id": "ddcc2d15",
   "metadata": {},
   "outputs": [],
   "source": [
    "#spliting the data into training and testing sets\n",
    "from sklearn.model_selection import train_test_split\n",
    "X=data.loc[:,['DAX', 'BOVESPA', 'EM']]\n",
    "y=data['ISE']\n",
    "X_train, X_test, y_train, y_test=train_test_split(X, y, test_size=0.1, random_state=42)"
   ]
  },
  {
   "cell_type": "code",
   "execution_count": 27,
   "id": "ce039e53",
   "metadata": {},
   "outputs": [
    {
     "data": {
      "text/plain": [
       "((482, 3), (54, 3))"
      ]
     },
     "execution_count": 27,
     "metadata": {},
     "output_type": "execute_result"
    }
   ],
   "source": [
    "#shape of data\n",
    "X_train.shape, X_test.shape"
   ]
  },
  {
   "cell_type": "markdown",
   "id": "9bdca70b",
   "metadata": {},
   "source": [
    "# Scaling the dataset"
   ]
  },
  {
   "cell_type": "code",
   "execution_count": 28,
   "id": "1ec39f1a",
   "metadata": {},
   "outputs": [],
   "source": [
    "#scaling the datasets\n",
    "from sklearn.preprocessing import StandardScaler\n",
    "scaler=StandardScaler()\n",
    "X_train_scaled=scaler.fit_transform(X_train)\n",
    "X_test_scaled=scaler.fit_transform(X_test)"
   ]
  },
  {
   "cell_type": "code",
   "execution_count": 29,
   "id": "8faf6d6f",
   "metadata": {},
   "outputs": [
    {
     "data": {
      "text/plain": [
       "array([[ 1.1447362 ,  2.60444175,  2.10292797],\n",
       "       [-0.06628848, -0.06290624,  0.45927318],\n",
       "       [-0.34326433, -1.12711174,  0.27019931]])"
      ]
     },
     "execution_count": 29,
     "metadata": {},
     "output_type": "execute_result"
    }
   ],
   "source": [
    "#displaying the x_scaled\n",
    "X_train_scaled[:3]"
   ]
  },
  {
   "cell_type": "markdown",
   "id": "94ab094b",
   "metadata": {},
   "source": [
    "# Creation of the model"
   ]
  },
  {
   "cell_type": "code",
   "execution_count": 30,
   "id": "56e6a542",
   "metadata": {},
   "outputs": [],
   "source": [
    "#model creation\n",
    "import tensorflow as tf\n",
    "tf.random.set_seed(42)\n",
    "\n",
    "model=tf.keras.Sequential([\n",
    "    tf.keras.layers.Dense(16, activation='relu'),\n",
    "    tf.keras.layers.Dense(32, activation='relu'),\n",
    "    tf.keras.layers.Dense(32, activation='relu'),\n",
    "    tf.keras.layers.Dense(1, activation='sigmoid'),\n",
    "])"
   ]
  },
  {
   "cell_type": "markdown",
   "id": "f1e617eb",
   "metadata": {},
   "source": [
    "# Model Compilation"
   ]
  },
  {
   "cell_type": "code",
   "execution_count": 31,
   "id": "fb33f53e",
   "metadata": {},
   "outputs": [],
   "source": [
    "#model compilation\n",
    "model.compile(\n",
    "    loss=tf.keras.losses.binary_crossentropy,\n",
    "    optimizer=tf.keras.optimizers.Adam(lr=0.03),\n",
    "    metrics=[\n",
    "        tf.keras.metrics.BinaryAccuracy(name='accuracy'),\n",
    "        tf.keras.metrics.Precision(name='precision'),\n",
    "        tf.keras.metrics.Recall(name='recall')\n",
    "    ]\n",
    ")"
   ]
  },
  {
   "cell_type": "markdown",
   "id": "7759720d",
   "metadata": {},
   "source": [
    "# Fitting the Model"
   ]
  },
  {
   "cell_type": "code",
   "execution_count": 32,
   "id": "823e4891",
   "metadata": {},
   "outputs": [
    {
     "name": "stdout",
     "output_type": "stream",
     "text": [
      "Epoch 1/100\n",
      "5/5 [==============================] - 0s 1ms/step - loss: 0.5674 - accuracy: 0.7199 - precision: 0.6895 - recall: 0.7958\n",
      "Epoch 2/100\n",
      "5/5 [==============================] - 0s 2ms/step - loss: 0.4799 - accuracy: 0.7739 - precision: 0.7860 - recall: 0.7500\n",
      "Epoch 3/100\n",
      "5/5 [==============================] - 0s 857us/step - loss: 0.4823 - accuracy: 0.7801 - precision: 0.7659 - recall: 0.8042\n",
      "Epoch 4/100\n",
      "5/5 [==============================] - 0s 1ms/step - loss: 0.4639 - accuracy: 0.7863 - precision: 0.7645 - recall: 0.8250\n",
      "Epoch 5/100\n",
      "5/5 [==============================] - 0s 3ms/step - loss: 0.4592 - accuracy: 0.7967 - precision: 0.7840 - recall: 0.8167\n",
      "Epoch 6/100\n",
      "5/5 [==============================] - 0s 902us/step - loss: 0.4525 - accuracy: 0.8050 - precision: 0.7852 - recall: 0.8375\n",
      "Epoch 7/100\n",
      "5/5 [==============================] - 0s 2ms/step - loss: 0.4507 - accuracy: 0.7988 - precision: 0.7698 - recall: 0.8500\n",
      "Epoch 8/100\n",
      "5/5 [==============================] - 0s 1ms/step - loss: 0.4561 - accuracy: 0.7967 - precision: 0.7840 - recall: 0.8167\n",
      "Epoch 9/100\n",
      "5/5 [==============================] - 0s 895us/step - loss: 0.4538 - accuracy: 0.8112 - precision: 0.7833 - recall: 0.8583\n",
      "Epoch 10/100\n",
      "5/5 [==============================] - 0s 1000us/step - loss: 0.4475 - accuracy: 0.7988 - precision: 0.8069 - recall: 0.7833\n",
      "Epoch 11/100\n",
      "5/5 [==============================] - 0s 2ms/step - loss: 0.4482 - accuracy: 0.8029 - precision: 0.7715 - recall: 0.8583\n",
      "Epoch 12/100\n",
      "5/5 [==============================] - 0s 2ms/step - loss: 0.4410 - accuracy: 0.8050 - precision: 0.7920 - recall: 0.8250\n",
      "Epoch 13/100\n",
      "5/5 [==============================] - 0s 3ms/step - loss: 0.4430 - accuracy: 0.7967 - precision: 0.7710 - recall: 0.8417\n",
      "Epoch 14/100\n",
      "5/5 [==============================] - 0s 2ms/step - loss: 0.4324 - accuracy: 0.7988 - precision: 0.7826 - recall: 0.8250\n",
      "Epoch 15/100\n",
      "5/5 [==============================] - 0s 2ms/step - loss: 0.4298 - accuracy: 0.7967 - precision: 0.7731 - recall: 0.8375\n",
      "Epoch 16/100\n",
      "5/5 [==============================] - 0s 2ms/step - loss: 0.4215 - accuracy: 0.8154 - precision: 0.7893 - recall: 0.8583\n",
      "Epoch 17/100\n",
      "5/5 [==============================] - 0s 2ms/step - loss: 0.4286 - accuracy: 0.8071 - precision: 0.7928 - recall: 0.8292\n",
      "Epoch 18/100\n",
      "5/5 [==============================] - 0s 848us/step - loss: 0.4272 - accuracy: 0.8133 - precision: 0.8099 - recall: 0.8167\n",
      "Epoch 19/100\n",
      "5/5 [==============================] - 0s 2ms/step - loss: 0.4186 - accuracy: 0.8133 - precision: 0.7885 - recall: 0.8542\n",
      "Epoch 20/100\n",
      "5/5 [==============================] - 0s 882us/step - loss: 0.4117 - accuracy: 0.8029 - precision: 0.7959 - recall: 0.8125\n",
      "Epoch 21/100\n",
      "5/5 [==============================] - 0s 919us/step - loss: 0.4120 - accuracy: 0.8091 - precision: 0.7846 - recall: 0.8500\n",
      "Epoch 22/100\n",
      "5/5 [==============================] - 0s 1ms/step - loss: 0.4188 - accuracy: 0.8195 - precision: 0.8072 - recall: 0.8375\n",
      "Epoch 23/100\n",
      "5/5 [==============================] - 0s 2ms/step - loss: 0.4069 - accuracy: 0.8050 - precision: 0.7808 - recall: 0.8458\n",
      "Epoch 24/100\n",
      "5/5 [==============================] - 0s 954us/step - loss: 0.4021 - accuracy: 0.8091 - precision: 0.8136 - recall: 0.8000\n",
      "Epoch 25/100\n",
      "5/5 [==============================] - 0s 2ms/step - loss: 0.3881 - accuracy: 0.8091 - precision: 0.7913 - recall: 0.8375\n",
      "Epoch 26/100\n",
      "5/5 [==============================] - 0s 3ms/step - loss: 0.3963 - accuracy: 0.8050 - precision: 0.7967 - recall: 0.8167\n",
      "Epoch 27/100\n",
      "5/5 [==============================] - 0s 2ms/step - loss: 0.3954 - accuracy: 0.8091 - precision: 0.7984 - recall: 0.8250\n",
      "Epoch 28/100\n",
      "5/5 [==============================] - 0s 2ms/step - loss: 0.3874 - accuracy: 0.8237 - precision: 0.8163 - recall: 0.8333\n",
      "Epoch 29/100\n",
      "5/5 [==============================] - 0s 1ms/step - loss: 0.3906 - accuracy: 0.8133 - precision: 0.8000 - recall: 0.8333\n",
      "Epoch 30/100\n",
      "5/5 [==============================] - 0s 790us/step - loss: 0.3991 - accuracy: 0.8091 - precision: 0.8274 - recall: 0.7792\n",
      "Epoch 31/100\n",
      "5/5 [==============================] - 0s 1000us/step - loss: 0.3793 - accuracy: 0.8154 - precision: 0.7915 - recall: 0.8542\n",
      "Epoch 32/100\n",
      "5/5 [==============================] - 0s 1ms/step - loss: 0.3786 - accuracy: 0.8174 - precision: 0.8220 - recall: 0.8083\n",
      "Epoch 33/100\n",
      "5/5 [==============================] - 0s 2ms/step - loss: 0.3705 - accuracy: 0.8257 - precision: 0.8071 - recall: 0.8542\n",
      "Epoch 34/100\n",
      "5/5 [==============================] - 0s 2ms/step - loss: 0.3649 - accuracy: 0.8257 - precision: 0.8120 - recall: 0.8458\n",
      "Epoch 35/100\n",
      "5/5 [==============================] - 0s 989us/step - loss: 0.3734 - accuracy: 0.8340 - precision: 0.8150 - recall: 0.8625\n",
      "Epoch 36/100\n",
      "5/5 [==============================] - 0s 2ms/step - loss: 0.3575 - accuracy: 0.8402 - precision: 0.8382 - recall: 0.8417\n",
      "Epoch 37/100\n",
      "5/5 [==============================] - 0s 3ms/step - loss: 0.3995 - accuracy: 0.8154 - precision: 0.8057 - recall: 0.8292\n",
      "Epoch 38/100\n",
      "5/5 [==============================] - 0s 2ms/step - loss: 0.4032 - accuracy: 0.8029 - precision: 0.7656 - recall: 0.8708\n",
      "Epoch 39/100\n",
      "5/5 [==============================] - 0s 3ms/step - loss: 0.3966 - accuracy: 0.8174 - precision: 0.8089 - recall: 0.8292\n",
      "Epoch 40/100\n",
      "5/5 [==============================] - 0s 2ms/step - loss: 0.3930 - accuracy: 0.8237 - precision: 0.7860 - recall: 0.8875\n",
      "Epoch 41/100\n",
      "5/5 [==============================] - 0s 755us/step - loss: 0.3813 - accuracy: 0.8050 - precision: 0.8017 - recall: 0.8083\n",
      "Epoch 42/100\n",
      "5/5 [==============================] - 0s 2ms/step - loss: 0.3725 - accuracy: 0.8278 - precision: 0.8031 - recall: 0.8667\n",
      "Epoch 43/100\n",
      "5/5 [==============================] - 0s 730us/step - loss: 0.3672 - accuracy: 0.8278 - precision: 0.8204 - recall: 0.8375\n",
      "Epoch 44/100\n",
      "5/5 [==============================] - 0s 940us/step - loss: 0.3663 - accuracy: 0.8320 - precision: 0.8000 - recall: 0.8833\n",
      "Epoch 45/100\n",
      "5/5 [==============================] - 0s 874us/step - loss: 0.3552 - accuracy: 0.8402 - precision: 0.8196 - recall: 0.8708\n",
      "Epoch 46/100\n",
      "5/5 [==============================] - 0s 3ms/step - loss: 0.3539 - accuracy: 0.8361 - precision: 0.8182 - recall: 0.8625\n",
      "Epoch 47/100\n",
      "5/5 [==============================] - 0s 2ms/step - loss: 0.3490 - accuracy: 0.8382 - precision: 0.7935 - recall: 0.9125\n",
      "Epoch 48/100\n",
      "5/5 [==============================] - 0s 2ms/step - loss: 0.3439 - accuracy: 0.8423 - precision: 0.8203 - recall: 0.8750\n",
      "Epoch 49/100\n",
      "5/5 [==============================] - 0s 1ms/step - loss: 0.3362 - accuracy: 0.8340 - precision: 0.8077 - recall: 0.8750\n",
      "Epoch 50/100\n",
      "5/5 [==============================] - 0s 1ms/step - loss: 0.3247 - accuracy: 0.8631 - precision: 0.8346 - recall: 0.9042\n",
      "Epoch 51/100\n",
      "5/5 [==============================] - 0s 1ms/step - loss: 0.3409 - accuracy: 0.8485 - precision: 0.8224 - recall: 0.8875\n",
      "Epoch 52/100\n",
      "5/5 [==============================] - 0s 2ms/step - loss: 0.3392 - accuracy: 0.8465 - precision: 0.8402 - recall: 0.8542\n",
      "Epoch 53/100\n",
      "5/5 [==============================] - 0s 2ms/step - loss: 0.3300 - accuracy: 0.8444 - precision: 0.8113 - recall: 0.8958\n",
      "Epoch 54/100\n",
      "5/5 [==============================] - 0s 1ms/step - loss: 0.3420 - accuracy: 0.8402 - precision: 0.8590 - recall: 0.8125\n",
      "Epoch 55/100\n",
      "5/5 [==============================] - 0s 1ms/step - loss: 0.3495 - accuracy: 0.8361 - precision: 0.7949 - recall: 0.9042\n",
      "Epoch 56/100\n",
      "5/5 [==============================] - 0s 2ms/step - loss: 0.3525 - accuracy: 0.8361 - precision: 0.8182 - recall: 0.8625\n",
      "Epoch 57/100\n",
      "5/5 [==============================] - 0s 2ms/step - loss: 0.3471 - accuracy: 0.8299 - precision: 0.8038 - recall: 0.8708\n",
      "Epoch 58/100\n",
      "5/5 [==============================] - 0s 2ms/step - loss: 0.3332 - accuracy: 0.8444 - precision: 0.8185 - recall: 0.8833\n",
      "Epoch 59/100\n",
      "5/5 [==============================] - 0s 725us/step - loss: 0.3244 - accuracy: 0.8506 - precision: 0.8231 - recall: 0.8917\n",
      "Epoch 60/100\n",
      "5/5 [==============================] - 0s 873us/step - loss: 0.3156 - accuracy: 0.8548 - precision: 0.8427 - recall: 0.8708\n",
      "Epoch 61/100\n",
      "5/5 [==============================] - 0s 703us/step - loss: 0.2979 - accuracy: 0.8548 - precision: 0.8373 - recall: 0.8792\n",
      "Epoch 62/100\n",
      "5/5 [==============================] - 0s 1ms/step - loss: 0.3263 - accuracy: 0.8402 - precision: 0.8147 - recall: 0.8792\n",
      "Epoch 63/100\n",
      "5/5 [==============================] - 0s 879us/step - loss: 0.3068 - accuracy: 0.8506 - precision: 0.8256 - recall: 0.8875\n",
      "Epoch 64/100\n",
      "5/5 [==============================] - 0s 2ms/step - loss: 0.3061 - accuracy: 0.8589 - precision: 0.8496 - recall: 0.8708\n",
      "Epoch 65/100\n",
      "5/5 [==============================] - 0s 1ms/step - loss: 0.2869 - accuracy: 0.8672 - precision: 0.8359 - recall: 0.9125\n",
      "Epoch 66/100\n",
      "5/5 [==============================] - 0s 714us/step - loss: 0.2974 - accuracy: 0.8548 - precision: 0.8346 - recall: 0.8833\n",
      "Epoch 67/100\n",
      "5/5 [==============================] - 0s 2ms/step - loss: 0.2918 - accuracy: 0.8506 - precision: 0.8333 - recall: 0.8750\n",
      "Epoch 68/100\n",
      "5/5 [==============================] - 0s 745us/step - loss: 0.2820 - accuracy: 0.8714 - precision: 0.8504 - recall: 0.9000\n",
      "Epoch 69/100\n",
      "5/5 [==============================] - 0s 2ms/step - loss: 0.3049 - accuracy: 0.8485 - precision: 0.8494 - recall: 0.8458\n",
      "Epoch 70/100\n",
      "5/5 [==============================] - 0s 2ms/step - loss: 0.2975 - accuracy: 0.8465 - precision: 0.8144 - recall: 0.8958\n",
      "Epoch 71/100\n",
      "5/5 [==============================] - 0s 672us/step - loss: 0.3252 - accuracy: 0.8506 - precision: 0.8500 - recall: 0.8500\n",
      "Epoch 72/100\n",
      "5/5 [==============================] - 0s 1ms/step - loss: 0.3098 - accuracy: 0.8382 - precision: 0.8000 - recall: 0.9000\n",
      "Epoch 73/100\n",
      "5/5 [==============================] - 0s 925us/step - loss: 0.3051 - accuracy: 0.8506 - precision: 0.8333 - recall: 0.8750\n",
      "Epoch 74/100\n",
      "5/5 [==============================] - 0s 734us/step - loss: 0.2882 - accuracy: 0.8568 - precision: 0.8043 - recall: 0.9417\n",
      "Epoch 75/100\n",
      "5/5 [==============================] - 0s 1ms/step - loss: 0.2858 - accuracy: 0.8485 - precision: 0.8224 - recall: 0.8875\n",
      "Epoch 76/100\n",
      "5/5 [==============================] - 0s 626us/step - loss: 0.2680 - accuracy: 0.8714 - precision: 0.8618 - recall: 0.8833\n",
      "Epoch 77/100\n",
      "5/5 [==============================] - 0s 2ms/step - loss: 0.2686 - accuracy: 0.8610 - precision: 0.8366 - recall: 0.8958\n",
      "Epoch 78/100\n",
      "5/5 [==============================] - 0s 654us/step - loss: 0.2669 - accuracy: 0.8548 - precision: 0.8484 - recall: 0.8625\n",
      "Epoch 79/100\n",
      "5/5 [==============================] - 0s 2ms/step - loss: 0.2594 - accuracy: 0.8610 - precision: 0.8366 - recall: 0.8958\n",
      "Epoch 80/100\n",
      "5/5 [==============================] - 0s 852us/step - loss: 0.2695 - accuracy: 0.8631 - precision: 0.8537 - recall: 0.8750\n",
      "Epoch 81/100\n",
      "5/5 [==============================] - 0s 937us/step - loss: 0.2491 - accuracy: 0.8755 - precision: 0.8543 - recall: 0.9042\n",
      "Epoch 82/100\n",
      "5/5 [==============================] - 0s 2ms/step - loss: 0.2684 - accuracy: 0.8672 - precision: 0.8636 - recall: 0.8708\n",
      "Epoch 83/100\n",
      "5/5 [==============================] - 0s 820us/step - loss: 0.2450 - accuracy: 0.8900 - precision: 0.8582 - recall: 0.9333\n",
      "Epoch 84/100\n",
      "5/5 [==============================] - 0s 2ms/step - loss: 0.2969 - accuracy: 0.8506 - precision: 0.8818 - recall: 0.8083\n",
      "Epoch 85/100\n",
      "5/5 [==============================] - 0s 1ms/step - loss: 0.3065 - accuracy: 0.8631 - precision: 0.8107 - recall: 0.9458\n",
      "Epoch 86/100\n",
      "5/5 [==============================] - 0s 724us/step - loss: 0.2995 - accuracy: 0.8548 - precision: 0.8899 - recall: 0.8083\n",
      "Epoch 87/100\n",
      "5/5 [==============================] - 0s 1ms/step - loss: 0.3218 - accuracy: 0.8672 - precision: 0.8143 - recall: 0.9500\n",
      "Epoch 88/100\n",
      "5/5 [==============================] - 0s 887us/step - loss: 0.2832 - accuracy: 0.8672 - precision: 0.8697 - recall: 0.8625\n",
      "Epoch 89/100\n",
      "5/5 [==============================] - 0s 1ms/step - loss: 0.2712 - accuracy: 0.8693 - precision: 0.8471 - recall: 0.9000\n",
      "Epoch 90/100\n",
      "5/5 [==============================] - 0s 837us/step - loss: 0.2748 - accuracy: 0.8734 - precision: 0.8714 - recall: 0.8750\n",
      "Epoch 91/100\n",
      "5/5 [==============================] - 0s 2ms/step - loss: 0.2734 - accuracy: 0.8797 - precision: 0.8583 - recall: 0.9083\n",
      "Epoch 92/100\n",
      "5/5 [==============================] - 0s 1ms/step - loss: 0.2595 - accuracy: 0.8714 - precision: 0.8477 - recall: 0.9042\n",
      "Epoch 93/100\n",
      "5/5 [==============================] - 0s 658us/step - loss: 0.2674 - accuracy: 0.8672 - precision: 0.8465 - recall: 0.8958\n",
      "Epoch 94/100\n",
      "5/5 [==============================] - 0s 1ms/step - loss: 0.2698 - accuracy: 0.8714 - precision: 0.8560 - recall: 0.8917\n",
      "Epoch 95/100\n",
      "5/5 [==============================] - 0s 705us/step - loss: 0.2556 - accuracy: 0.8776 - precision: 0.8755 - recall: 0.8792\n",
      "Epoch 96/100\n",
      "5/5 [==============================] - 0s 1ms/step - loss: 0.2614 - accuracy: 0.8817 - precision: 0.8704 - recall: 0.8958\n",
      "Epoch 97/100\n",
      "5/5 [==============================] - 0s 852us/step - loss: 0.2648 - accuracy: 0.8776 - precision: 0.8549 - recall: 0.9083\n",
      "Epoch 98/100\n",
      "5/5 [==============================] - 0s 1ms/step - loss: 0.2496 - accuracy: 0.8776 - precision: 0.8390 - recall: 0.9333\n",
      "Epoch 99/100\n",
      "5/5 [==============================] - 0s 992us/step - loss: 0.2390 - accuracy: 0.8776 - precision: 0.8755 - recall: 0.8792\n",
      "Epoch 100/100\n",
      "5/5 [==============================] - 0s 1ms/step - loss: 0.2434 - accuracy: 0.8880 - precision: 0.8843 - recall: 0.8917\n"
     ]
    }
   ],
   "source": [
    "#model fitting\n",
    "history=model.fit(X_train_scaled, y_train, epochs=100, batch_size=100, verbose=1)"
   ]
  },
  {
   "cell_type": "markdown",
   "id": "4f8d16a8",
   "metadata": {},
   "source": [
    "# Visualiasation of the matrices "
   ]
  },
  {
   "cell_type": "code",
   "execution_count": 33,
   "id": "b01be9fb",
   "metadata": {},
   "outputs": [],
   "source": [
    "#import the visualisation libraries\n",
    "import matplotlib.pyplot as plt\n",
    "from matplotlib import rcParams\n",
    "rcParams['figure.figsize']=(18,8)\n",
    "rcParams['axes.spines.top']=False\n",
    "rcParams['axes.spines.right']=False"
   ]
  },
  {
   "cell_type": "code",
   "execution_count": 34,
   "id": "c0450838",
   "metadata": {},
   "outputs": [
    {
     "data": {
      "image/png": "[encoded data removed]",
      "text/plain": [
       "<Figure size 1296x576 with 1 Axes>"
      ]
     },
     "metadata": {
      "needs_background": "light"
     },
     "output_type": "display_data"
    }
   ],
   "source": [
    "#visualising the evaluation metrics\n",
    "plt.plot(np.arange(1,101), history.history['loss'], label='Loss')\n",
    "plt.plot(np.arange(1,101), history.history['accuracy'], label='Accuracy')\n",
    "plt.plot(np.arange(1,101), history.history['precision'], label='Precision')\n",
    "plt.plot(np.arange(1,101), history.history['recall'], label='Recall')\n",
    "plt.title('Evaluation metrics', size=20)\n",
    "plt.xlabel('Epoch', size=14)\n",
    "plt.legend();"
   ]
  },
  {
   "cell_type": "markdown",
   "id": "b6603ae3",
   "metadata": {},
   "source": [
    "From the diagram above we can see that our loss is very low. The accuracy, recall and precision are very high. We can see that in our artificial deep neural network (ADNN) model, where loss is decreasing as the other parameters are growing, which is normal pattern. There are some occasional spikes that would smoothen out if we are to train the ADNN model for more epochs. "
   ]
  },
  {
   "cell_type": "markdown",
   "id": "3641b882",
   "metadata": {},
   "source": [
    "# Predictions"
   ]
  },
  {
   "cell_type": "code",
   "execution_count": 35,
   "id": "3c76e670",
   "metadata": {},
   "outputs": [],
   "source": [
    "#predictions\n",
    "predictions=model.predict(X_test_scaled)"
   ]
  },
  {
   "cell_type": "code",
   "execution_count": 36,
   "id": "eb114213",
   "metadata": {},
   "outputs": [
    {
     "data": {
      "text/plain": [
       "array([[4.6469867e-03],\n",
       "       [7.2279203e-05],\n",
       "       [5.5827183e-01],\n",
       "       [2.9769301e-01],\n",
       "       [9.8949027e-01],\n",
       "       [2.0236347e-22],\n",
       "       [5.3567574e-06],\n",
       "       [6.3525593e-01],\n",
       "       [4.2641965e-01],\n",
       "       [9.9999738e-01],\n",
       "       [2.8647717e-05],\n",
       "       [8.5408807e-01],\n",
       "       [3.7356961e-01],\n",
       "       [9.2908692e-01],\n",
       "       [1.1397043e-01],\n",
       "       [2.0035720e-01],\n",
       "       [1.7699352e-01],\n",
       "       [7.6470478e-06],\n",
       "       [9.9999917e-01],\n",
       "       [1.8624380e-01],\n",
       "       [4.8875371e-01],\n",
       "       [1.6718596e-01],\n",
       "       [9.6232891e-03],\n",
       "       [9.9797475e-01],\n",
       "       [3.8234503e-13],\n",
       "       [1.4912337e-02],\n",
       "       [3.2145244e-01],\n",
       "       [9.7540557e-01],\n",
       "       [4.0727836e-01],\n",
       "       [9.2019594e-01],\n",
       "       [3.9785480e-01],\n",
       "       [9.1836733e-01],\n",
       "       [9.9992466e-01],\n",
       "       [8.8617098e-01],\n",
       "       [7.5258785e-01],\n",
       "       [8.1762153e-01],\n",
       "       [9.9882948e-01],\n",
       "       [1.0000000e+00],\n",
       "       [5.2805364e-02],\n",
       "       [6.8663889e-01],\n",
       "       [5.3492397e-01],\n",
       "       [9.9086452e-01],\n",
       "       [0.0000000e+00],\n",
       "       [9.3875060e-06],\n",
       "       [2.4492519e-11],\n",
       "       [9.8244846e-01],\n",
       "       [9.7728121e-01],\n",
       "       [9.6907389e-01],\n",
       "       [1.8565270e-19],\n",
       "       [9.1582203e-01],\n",
       "       [1.0661751e-02],\n",
       "       [7.4930406e-01],\n",
       "       [4.9302495e-01],\n",
       "       [9.8161584e-01]], dtype=float32)"
      ]
     },
     "execution_count": 36,
     "metadata": {},
     "output_type": "execute_result"
    }
   ],
   "source": [
    "#displaying predictions\n",
    "predictions"
   ]
  },
  {
   "cell_type": "code",
   "execution_count": 37,
   "id": "91d1b9b3",
   "metadata": {},
   "outputs": [],
   "source": [
    "#predictions classes\n",
    "prediction_classes=[1 if prob>=0.0026426354999999997 else 0 for prob in np.ravel(predictions)]"
   ]
  },
  {
   "cell_type": "code",
   "execution_count": 38,
   "id": "205f8d7c",
   "metadata": {},
   "outputs": [
    {
     "data": {
      "text/plain": [
       "[1, 0, 1, 1, 1, 0, 0, 1, 1, 1, 0, 1, 1, 1, 1, 1, 1, 0, 1, 1]"
      ]
     },
     "execution_count": 38,
     "metadata": {},
     "output_type": "execute_result"
    }
   ],
   "source": [
    "#predictions of first twenty classes\n",
    "prediction_classes[:20]"
   ]
  },
  {
   "cell_type": "code",
   "execution_count": 39,
   "id": "80cb5bec",
   "metadata": {},
   "outputs": [],
   "source": [
    "#importing the confusion_matrix library\n",
    "from sklearn.metrics import confusion_matrix"
   ]
  },
  {
   "cell_type": "code",
   "execution_count": 40,
   "id": "683bf23d",
   "metadata": {},
   "outputs": [
    {
     "name": "stdout",
     "output_type": "stream",
     "text": [
      "[[ 9 17]\n",
      " [ 1 27]]\n"
     ]
    }
   ],
   "source": [
    "#displaying the matrix\n",
    "print(confusion_matrix(y_test, prediction_classes))"
   ]
  },
  {
   "cell_type": "code",
   "execution_count": 41,
   "id": "4e2462d0",
   "metadata": {},
   "outputs": [],
   "source": [
    "#import the accuracy libarary\n",
    "from sklearn.metrics import accuracy_score"
   ]
  },
  {
   "cell_type": "code",
   "execution_count": 42,
   "id": "b8420c94",
   "metadata": {},
   "outputs": [
    {
     "name": "stdout",
     "output_type": "stream",
     "text": [
      "0.6666666666666666\n"
     ]
    }
   ],
   "source": [
    "#displying the accuracy\n",
    "print(accuracy_score(y_test, prediction_classes))"
   ]
  },
  {
   "cell_type": "code",
   "execution_count": 43,
   "id": "8acf9d9e",
   "metadata": {},
   "outputs": [],
   "source": [
    "#importing the library classification_report\n",
    "from sklearn.metrics import classification_report"
   ]
  },
  {
   "cell_type": "code",
   "execution_count": 44,
   "id": "cb0d12f9",
   "metadata": {},
   "outputs": [
    {
     "name": "stdout",
     "output_type": "stream",
     "text": [
      "              precision    recall  f1-score   support\n",
      "\n",
      "         0.0       0.90      0.35      0.50        26\n",
      "         1.0       0.61      0.96      0.75        28\n",
      "\n",
      "    accuracy                           0.67        54\n",
      "   macro avg       0.76      0.66      0.62        54\n",
      "weighted avg       0.75      0.67      0.63        54\n",
      "\n"
     ]
    }
   ],
   "source": [
    "#displaying the classification_report\n",
    "print(classification_report(y_test, prediction_classes))"
   ]
  },
  {
   "cell_type": "code",
   "execution_count": 45,
   "id": "995856be",
   "metadata": {},
   "outputs": [],
   "source": [
    "#importing the libraries of the roc_curve and auc\n",
    "from sklearn.metrics import roc_curve, auc"
   ]
  },
  {
   "cell_type": "code",
   "execution_count": 46,
   "id": "e2eac3b5",
   "metadata": {},
   "outputs": [
    {
     "name": "stdout",
     "output_type": "stream",
     "text": [
      "Note: you may need to restart the kernel to use updated packages.\n"
     ]
    },
    {
     "name": "stderr",
     "output_type": "stream",
     "text": [
      "ERROR: Could not find a version that satisfies the requirement num_of_epochs (from versions: none)\n",
      "ERROR: No matching distribution found for num_of_epochs\n",
      "\n",
      "[notice] A new release of pip available: 22.3 -> 23.3.1\n",
      "[notice] To update, run: python.exe -m pip install --upgrade pip\n"
     ]
    }
   ],
   "source": [
    "pip install num_of_epochs"
   ]
  },
  {
   "cell_type": "code",
   "execution_count": 47,
   "id": "3ff0fe18",
   "metadata": {},
   "outputs": [
    {
     "name": "stdout",
     "output_type": "stream",
     "text": [
      "Epoch 1/100\n",
      "5/5 [==============================] - 1s 118ms/step - loss: 1.2264 - accuracy: 0.4979 - precision: 0.4966 - recall: 0.6167 - val_loss: 0.7278 - val_accuracy: 0.4815 - val_precision: 0.0000e+00 - val_recall: 0.0000e+00\n",
      "Epoch 2/100\n",
      "5/5 [==============================] - 0s 4ms/step - loss: 0.7017 - accuracy: 0.5270 - precision: 0.9286 - recall: 0.0542 - val_loss: 0.6333 - val_accuracy: 0.6111 - val_precision: 0.5714 - val_recall: 1.0000\n",
      "Epoch 3/100\n",
      "5/5 [==============================] - 0s 6ms/step - loss: 0.6666 - accuracy: 0.5830 - precision: 0.5582 - recall: 0.7792 - val_loss: 0.6500 - val_accuracy: 0.5741 - val_precision: 1.0000 - val_recall: 0.1786\n",
      "Epoch 4/100\n",
      "5/5 [==============================] - 0s 5ms/step - loss: 0.6240 - accuracy: 0.6556 - precision: 0.6186 - recall: 0.8042 - val_loss: 0.6118 - val_accuracy: 0.6296 - val_precision: 1.0000 - val_recall: 0.2857\n",
      "Epoch 5/100\n",
      "5/5 [==============================] - 0s 4ms/step - loss: 0.6002 - accuracy: 0.6598 - precision: 0.6759 - recall: 0.6083 - val_loss: 0.5408 - val_accuracy: 0.7407 - val_precision: 0.8182 - val_recall: 0.6429\n",
      "Epoch 6/100\n",
      "5/5 [==============================] - 0s 4ms/step - loss: 0.5926 - accuracy: 0.6535 - precision: 0.6454 - recall: 0.6750 - val_loss: 0.5256 - val_accuracy: 0.7037 - val_precision: 0.9286 - val_recall: 0.4643\n",
      "Epoch 7/100\n",
      "5/5 [==============================] - 0s 5ms/step - loss: 0.6203 - accuracy: 0.6535 - precision: 0.6431 - recall: 0.6833 - val_loss: 0.6447 - val_accuracy: 0.6111 - val_precision: 1.0000 - val_recall: 0.2500\n",
      "Epoch 8/100\n",
      "5/5 [==============================] - 0s 6ms/step - loss: 0.6709 - accuracy: 0.6162 - precision: 0.6471 - recall: 0.5042 - val_loss: 0.6942 - val_accuracy: 0.5926 - val_precision: 0.5600 - val_recall: 1.0000\n",
      "Epoch 9/100\n",
      "5/5 [==============================] - 0s 5ms/step - loss: 0.6625 - accuracy: 0.6017 - precision: 0.6212 - recall: 0.5125 - val_loss: 0.6785 - val_accuracy: 0.5741 - val_precision: 1.0000 - val_recall: 0.1786\n",
      "Epoch 10/100\n",
      "5/5 [==============================] - 0s 5ms/step - loss: 0.6269 - accuracy: 0.6328 - precision: 0.6137 - recall: 0.7083 - val_loss: 0.5994 - val_accuracy: 0.6296 - val_precision: 0.5833 - val_recall: 1.0000\n",
      "Epoch 11/100\n",
      "5/5 [==============================] - 0s 5ms/step - loss: 0.6050 - accuracy: 0.7033 - precision: 0.6816 - recall: 0.7583 - val_loss: 0.6300 - val_accuracy: 0.5741 - val_precision: 1.0000 - val_recall: 0.1786\n",
      "Epoch 12/100\n",
      "5/5 [==============================] - 0s 6ms/step - loss: 0.6029 - accuracy: 0.6743 - precision: 0.8120 - recall: 0.4500 - val_loss: 0.5426 - val_accuracy: 0.7778 - val_precision: 0.7105 - val_recall: 0.9643\n",
      "Epoch 13/100\n",
      "5/5 [==============================] - 0s 5ms/step - loss: 0.5796 - accuracy: 0.6846 - precision: 0.6310 - recall: 0.8833 - val_loss: 0.5754 - val_accuracy: 0.6296 - val_precision: 1.0000 - val_recall: 0.2857\n",
      "Epoch 14/100\n",
      "5/5 [==============================] - ETA: 0s - loss: 0.6009 - accuracy: 0.6500 - precision: 0.7576 - recall: 0.480 - 0s 6ms/step - loss: 0.5663 - accuracy: 0.6929 - precision: 0.7396 - recall: 0.5917 - val_loss: 0.4981 - val_accuracy: 0.7963 - val_precision: 0.7297 - val_recall: 0.9643\n",
      "Epoch 15/100\n",
      "5/5 [==============================] - 0s 4ms/step - loss: 0.5442 - accuracy: 0.7158 - precision: 0.7155 - recall: 0.7125 - val_loss: 0.4846 - val_accuracy: 0.7593 - val_precision: 0.8571 - val_recall: 0.6429\n",
      "Epoch 16/100\n",
      "5/5 [==============================] - 0s 5ms/step - loss: 0.5144 - accuracy: 0.7448 - precision: 0.7127 - recall: 0.8167 - val_loss: 0.4877 - val_accuracy: 0.6852 - val_precision: 0.8235 - val_recall: 0.5000\n",
      "Epoch 17/100\n",
      "5/5 [==============================] - 0s 5ms/step - loss: 0.5262 - accuracy: 0.7344 - precision: 0.7353 - recall: 0.7292 - val_loss: 0.4425 - val_accuracy: 0.7963 - val_precision: 0.7576 - val_recall: 0.8929\n",
      "Epoch 18/100\n",
      "5/5 [==============================] - 0s 5ms/step - loss: 0.5238 - accuracy: 0.7365 - precision: 0.7467 - recall: 0.7125 - val_loss: 0.4498 - val_accuracy: 0.8148 - val_precision: 0.7500 - val_recall: 0.9643\n",
      "Epoch 19/100\n",
      "5/5 [==============================] - 0s 5ms/step - loss: 0.5307 - accuracy: 0.7303 - precision: 0.7052 - recall: 0.7875 - val_loss: 0.5032 - val_accuracy: 0.7222 - val_precision: 1.0000 - val_recall: 0.4643\n",
      "Epoch 20/100\n",
      "5/5 [==============================] - 0s 5ms/step - loss: 0.5148 - accuracy: 0.7531 - precision: 0.7184 - recall: 0.8292 - val_loss: 0.5143 - val_accuracy: 0.7222 - val_precision: 1.0000 - val_recall: 0.4643\n",
      "Epoch 21/100\n",
      "5/5 [==============================] - 0s 5ms/step - loss: 0.5181 - accuracy: 0.7490 - precision: 0.7352 - recall: 0.7750 - val_loss: 0.4849 - val_accuracy: 0.7037 - val_precision: 0.9286 - val_recall: 0.4643\n",
      "Epoch 22/100\n",
      "5/5 [==============================] - 0s 4ms/step - loss: 0.5292 - accuracy: 0.7158 - precision: 0.7537 - recall: 0.6375 - val_loss: 0.6046 - val_accuracy: 0.6667 - val_precision: 0.6087 - val_recall: 1.0000\n",
      "Epoch 23/100\n",
      "5/5 [==============================] - 0s 5ms/step - loss: 0.6255 - accuracy: 0.6660 - precision: 0.6339 - recall: 0.7792 - val_loss: 0.6487 - val_accuracy: 0.6296 - val_precision: 1.0000 - val_recall: 0.2857\n",
      "Epoch 24/100\n",
      "5/5 [==============================] - 0s 5ms/step - loss: 0.5993 - accuracy: 0.6660 - precision: 0.6312 - recall: 0.7917 - val_loss: 0.4607 - val_accuracy: 0.7593 - val_precision: 0.8261 - val_recall: 0.6786\n",
      "Epoch 25/100\n",
      "5/5 [==============================] - 0s 4ms/step - loss: 0.5543 - accuracy: 0.6867 - precision: 0.7665 - recall: 0.5333 - val_loss: 0.4683 - val_accuracy: 0.8333 - val_precision: 0.8276 - val_recall: 0.8571\n",
      "Epoch 26/100\n",
      "5/5 [==============================] - 0s 6ms/step - loss: 0.5460 - accuracy: 0.7012 - precision: 0.6379 - recall: 0.9250 - val_loss: 0.4784 - val_accuracy: 0.7593 - val_precision: 0.8571 - val_recall: 0.6429\n",
      "Epoch 27/100\n",
      "5/5 [==============================] - 0s 4ms/step - loss: 0.5255 - accuracy: 0.7490 - precision: 0.7931 - recall: 0.6708 - val_loss: 0.4594 - val_accuracy: 0.7778 - val_precision: 0.8636 - val_recall: 0.6786\n",
      "Epoch 28/100\n",
      "5/5 [==============================] - 0s 5ms/step - loss: 0.5061 - accuracy: 0.7635 - precision: 0.7368 - recall: 0.8167 - val_loss: 0.4831 - val_accuracy: 0.7037 - val_precision: 0.9286 - val_recall: 0.4643\n",
      "Epoch 29/100\n",
      "5/5 [==============================] - 0s 5ms/step - loss: 0.4980 - accuracy: 0.7676 - precision: 0.7667 - recall: 0.7667 - val_loss: 0.4267 - val_accuracy: 0.7963 - val_precision: 0.8148 - val_recall: 0.7857\n",
      "Epoch 30/100\n",
      "5/5 [==============================] - 0s 5ms/step - loss: 0.5043 - accuracy: 0.7676 - precision: 0.7623 - recall: 0.7750 - val_loss: 0.4362 - val_accuracy: 0.7593 - val_precision: 0.8571 - val_recall: 0.6429\n",
      "Epoch 31/100\n",
      "5/5 [==============================] - 0s 5ms/step - loss: 0.4923 - accuracy: 0.7739 - precision: 0.7652 - recall: 0.7875 - val_loss: 0.4284 - val_accuracy: 0.7593 - val_precision: 0.8571 - val_recall: 0.6429\n",
      "Epoch 32/100\n",
      "5/5 [==============================] - 0s 5ms/step - loss: 0.4912 - accuracy: 0.7780 - precision: 0.7649 - recall: 0.8000 - val_loss: 0.4472 - val_accuracy: 0.7778 - val_precision: 0.9000 - val_recall: 0.6429\n",
      "Epoch 33/100\n",
      "5/5 [==============================] - 0s 4ms/step - loss: 0.4921 - accuracy: 0.7635 - precision: 0.7386 - recall: 0.8125 - val_loss: 0.4364 - val_accuracy: 0.7593 - val_precision: 0.8571 - val_recall: 0.6429\n",
      "Epoch 34/100\n",
      "5/5 [==============================] - 0s 5ms/step - loss: 0.4863 - accuracy: 0.7842 - precision: 0.7857 - recall: 0.7792 - val_loss: 0.4191 - val_accuracy: 0.7778 - val_precision: 0.8636 - val_recall: 0.6786\n",
      "Epoch 35/100\n",
      "5/5 [==============================] - 0s 4ms/step - loss: 0.4845 - accuracy: 0.7739 - precision: 0.7529 - recall: 0.8125 - val_loss: 0.4560 - val_accuracy: 0.7778 - val_precision: 0.9444 - val_recall: 0.6071\n",
      "Epoch 36/100\n",
      "5/5 [==============================] - 0s 4ms/step - loss: 0.4959 - accuracy: 0.7593 - precision: 0.7403 - recall: 0.7958 - val_loss: 0.4644 - val_accuracy: 0.7593 - val_precision: 1.0000 - val_recall: 0.5357\n",
      "Epoch 37/100\n",
      "5/5 [==============================] - 0s 7ms/step - loss: 0.5078 - accuracy: 0.7573 - precision: 0.7834 - recall: 0.7083 - val_loss: 0.4094 - val_accuracy: 0.8333 - val_precision: 0.8065 - val_recall: 0.8929\n",
      "Epoch 38/100\n",
      "5/5 [==============================] - 0s 7ms/step - loss: 0.5168 - accuracy: 0.7490 - precision: 0.7469 - recall: 0.7500 - val_loss: 0.4452 - val_accuracy: 0.7963 - val_precision: 0.9474 - val_recall: 0.6429\n",
      "Epoch 39/100\n",
      "5/5 [==============================] - 0s 7ms/step - loss: 0.4876 - accuracy: 0.7676 - precision: 0.7254 - recall: 0.8583 - val_loss: 0.4547 - val_accuracy: 0.7778 - val_precision: 0.9444 - val_recall: 0.6071\n",
      "Epoch 40/100\n",
      "5/5 [==============================] - 0s 5ms/step - loss: 0.5018 - accuracy: 0.7531 - precision: 0.7689 - recall: 0.7208 - val_loss: 0.4108 - val_accuracy: 0.8148 - val_precision: 0.8462 - val_recall: 0.7857\n",
      "Epoch 41/100\n",
      "5/5 [==============================] - 0s 6ms/step - loss: 0.4968 - accuracy: 0.7593 - precision: 0.7650 - recall: 0.7458 - val_loss: 0.4176 - val_accuracy: 0.7963 - val_precision: 0.8696 - val_recall: 0.7143\n",
      "Epoch 42/100\n",
      "5/5 [==============================] - 0s 4ms/step - loss: 0.4889 - accuracy: 0.7718 - precision: 0.7305 - recall: 0.8583 - val_loss: 0.4832 - val_accuracy: 0.7037 - val_precision: 1.0000 - val_recall: 0.4286\n",
      "Epoch 43/100\n",
      "5/5 [==============================] - 0s 5ms/step - loss: 0.4925 - accuracy: 0.7697 - precision: 0.7745 - recall: 0.7583 - val_loss: 0.4084 - val_accuracy: 0.8333 - val_precision: 0.8065 - val_recall: 0.8929\n",
      "Epoch 44/100\n",
      "5/5 [==============================] - 0s 5ms/step - loss: 0.5119 - accuracy: 0.7303 - precision: 0.7236 - recall: 0.7417 - val_loss: 0.4228 - val_accuracy: 0.7778 - val_precision: 0.8636 - val_recall: 0.6786\n",
      "Epoch 45/100\n",
      "5/5 [==============================] - 0s 5ms/step - loss: 0.4933 - accuracy: 0.7552 - precision: 0.7226 - recall: 0.8250 - val_loss: 0.4869 - val_accuracy: 0.7037 - val_precision: 1.0000 - val_recall: 0.4286\n",
      "Epoch 46/100\n",
      "5/5 [==============================] - 0s 4ms/step - loss: 0.4723 - accuracy: 0.7863 - precision: 0.8186 - recall: 0.7333 - val_loss: 0.4396 - val_accuracy: 0.7222 - val_precision: 0.6585 - val_recall: 0.9643\n",
      "Epoch 47/100\n",
      "5/5 [==============================] - 0s 5ms/step - loss: 0.5538 - accuracy: 0.7054 - precision: 0.6738 - recall: 0.7917 - val_loss: 0.5509 - val_accuracy: 0.6667 - val_precision: 1.0000 - val_recall: 0.3571\n",
      "Epoch 48/100\n",
      "5/5 [==============================] - 0s 4ms/step - loss: 0.5027 - accuracy: 0.7552 - precision: 0.7210 - recall: 0.8292 - val_loss: 0.4160 - val_accuracy: 0.8148 - val_precision: 0.8750 - val_recall: 0.7500\n",
      "Epoch 49/100\n",
      "5/5 [==============================] - 0s 4ms/step - loss: 0.4907 - accuracy: 0.7573 - precision: 0.7808 - recall: 0.7125 - val_loss: 0.4205 - val_accuracy: 0.7963 - val_precision: 0.8696 - val_recall: 0.7143\n",
      "Epoch 50/100\n",
      "5/5 [==============================] - 0s 4ms/step - loss: 0.4866 - accuracy: 0.7759 - precision: 0.7426 - recall: 0.8417 - val_loss: 0.4556 - val_accuracy: 0.7593 - val_precision: 1.0000 - val_recall: 0.5357\n",
      "Epoch 51/100\n",
      "5/5 [==============================] - 0s 5ms/step - loss: 0.4936 - accuracy: 0.7905 - precision: 0.7623 - recall: 0.8417 - val_loss: 0.4693 - val_accuracy: 0.7407 - val_precision: 1.0000 - val_recall: 0.5000\n",
      "Epoch 52/100\n",
      "5/5 [==============================] - ETA: 0s - loss: 0.4668 - accuracy: 0.7800 - precision: 0.7500 - recall: 0.750 - 0s 4ms/step - loss: 0.4770 - accuracy: 0.7863 - precision: 0.7729 - recall: 0.8083 - val_loss: 0.3984 - val_accuracy: 0.7963 - val_precision: 0.8400 - val_recall: 0.7500\n",
      "Epoch 53/100\n",
      "5/5 [==============================] - 0s 3ms/step - loss: 0.4768 - accuracy: 0.7739 - precision: 0.7529 - recall: 0.8125 - val_loss: 0.5323 - val_accuracy: 0.6667 - val_precision: 1.0000 - val_recall: 0.3571\n",
      "Epoch 54/100\n",
      "5/5 [==============================] - ETA: 0s - loss: 0.4761 - accuracy: 0.7600 - precision: 0.8974 - recall: 0.636 - 0s 4ms/step - loss: 0.4932 - accuracy: 0.7718 - precision: 0.7621 - recall: 0.7875 - val_loss: 0.4170 - val_accuracy: 0.8148 - val_precision: 0.9500 - val_recall: 0.6786\n",
      "Epoch 55/100\n",
      "5/5 [==============================] - 0s 4ms/step - loss: 0.4890 - accuracy: 0.7697 - precision: 0.7945 - recall: 0.7250 - val_loss: 0.3898 - val_accuracy: 0.8519 - val_precision: 0.8571 - val_recall: 0.8571\n",
      "Epoch 56/100\n",
      "5/5 [==============================] - 0s 5ms/step - loss: 0.4974 - accuracy: 0.7614 - precision: 0.7208 - recall: 0.8500 - val_loss: 0.5126 - val_accuracy: 0.6852 - val_precision: 1.0000 - val_recall: 0.3929\n",
      "Epoch 57/100\n",
      "5/5 [==============================] - 0s 3ms/step - loss: 0.4879 - accuracy: 0.7967 - precision: 0.7886 - recall: 0.8083 - val_loss: 0.3965 - val_accuracy: 0.8148 - val_precision: 0.8462 - val_recall: 0.7857\n",
      "Epoch 58/100\n",
      "5/5 [==============================] - 0s 4ms/step - loss: 0.4837 - accuracy: 0.7842 - precision: 0.7742 - recall: 0.8000 - val_loss: 0.4702 - val_accuracy: 0.7407 - val_precision: 1.0000 - val_recall: 0.5000\n",
      "Epoch 59/100\n",
      "5/5 [==============================] - 0s 4ms/step - loss: 0.4878 - accuracy: 0.7635 - precision: 0.7368 - recall: 0.8167 - val_loss: 0.4064 - val_accuracy: 0.8148 - val_precision: 0.8750 - val_recall: 0.7500\n",
      "Epoch 60/100\n",
      "5/5 [==============================] - 0s 5ms/step - loss: 0.4856 - accuracy: 0.7614 - precision: 0.7934 - recall: 0.7042 - val_loss: 0.3980 - val_accuracy: 0.8148 - val_precision: 0.8750 - val_recall: 0.7500\n",
      "Epoch 61/100\n",
      "5/5 [==============================] - 0s 4ms/step - loss: 0.4808 - accuracy: 0.7739 - precision: 0.7348 - recall: 0.8542 - val_loss: 0.4405 - val_accuracy: 0.7593 - val_precision: 1.0000 - val_recall: 0.5357\n",
      "Epoch 62/100\n",
      "5/5 [==============================] - 0s 4ms/step - loss: 0.4739 - accuracy: 0.7780 - precision: 0.7671 - recall: 0.7958 - val_loss: 0.4293 - val_accuracy: 0.8148 - val_precision: 0.9500 - val_recall: 0.6786\n",
      "Epoch 63/100\n",
      "5/5 [==============================] - 0s 4ms/step - loss: 0.4730 - accuracy: 0.7842 - precision: 0.7720 - recall: 0.8042 - val_loss: 0.4125 - val_accuracy: 0.8148 - val_precision: 0.9500 - val_recall: 0.6786\n",
      "Epoch 64/100\n",
      "5/5 [==============================] - 0s 4ms/step - loss: 0.4729 - accuracy: 0.7884 - precision: 0.7674 - recall: 0.8250 - val_loss: 0.4383 - val_accuracy: 0.7593 - val_precision: 1.0000 - val_recall: 0.5357\n",
      "Epoch 65/100\n",
      "5/5 [==============================] - 0s 4ms/step - loss: 0.4733 - accuracy: 0.7863 - precision: 0.7866 - recall: 0.7833 - val_loss: 0.4088 - val_accuracy: 0.8148 - val_precision: 0.9500 - val_recall: 0.6786\n",
      "Epoch 66/100\n",
      "5/5 [==============================] - 0s 4ms/step - loss: 0.4784 - accuracy: 0.7697 - precision: 0.7471 - recall: 0.8125 - val_loss: 0.4454 - val_accuracy: 0.7593 - val_precision: 1.0000 - val_recall: 0.5357\n",
      "Epoch 67/100\n",
      "5/5 [==============================] - 0s 4ms/step - loss: 0.4703 - accuracy: 0.7905 - precision: 0.7837 - recall: 0.8000 - val_loss: 0.3928 - val_accuracy: 0.8148 - val_precision: 0.8750 - val_recall: 0.7500\n",
      "Epoch 68/100\n",
      "5/5 [==============================] - 0s 5ms/step - loss: 0.4758 - accuracy: 0.7822 - precision: 0.7473 - recall: 0.8500 - val_loss: 0.4704 - val_accuracy: 0.7407 - val_precision: 1.0000 - val_recall: 0.5000\n",
      "Epoch 69/100\n",
      "5/5 [==============================] - 0s 4ms/step - loss: 0.4836 - accuracy: 0.7635 - precision: 0.7603 - recall: 0.7667 - val_loss: 0.3887 - val_accuracy: 0.8148 - val_precision: 0.8462 - val_recall: 0.7857\n",
      "Epoch 70/100\n",
      "5/5 [==============================] - 0s 4ms/step - loss: 0.4792 - accuracy: 0.7905 - precision: 0.7683 - recall: 0.8292 - val_loss: 0.4285 - val_accuracy: 0.8148 - val_precision: 1.0000 - val_recall: 0.6429\n",
      "Epoch 71/100\n",
      "5/5 [==============================] - 0s 4ms/step - loss: 0.4763 - accuracy: 0.7842 - precision: 0.7656 - recall: 0.8167 - val_loss: 0.4402 - val_accuracy: 0.7778 - val_precision: 1.0000 - val_recall: 0.5714\n",
      "Epoch 72/100\n",
      "5/5 [==============================] - 0s 4ms/step - loss: 0.4782 - accuracy: 0.7863 - precision: 0.7528 - recall: 0.8500 - val_loss: 0.4672 - val_accuracy: 0.7407 - val_precision: 1.0000 - val_recall: 0.5000\n",
      "Epoch 73/100\n",
      "5/5 [==============================] - 0s 4ms/step - loss: 0.4744 - accuracy: 0.7739 - precision: 0.7860 - recall: 0.7500 - val_loss: 0.3867 - val_accuracy: 0.7963 - val_precision: 0.8148 - val_recall: 0.7857\n",
      "Epoch 74/100\n",
      "5/5 [==============================] - 0s 4ms/step - loss: 0.4793 - accuracy: 0.7863 - precision: 0.7605 - recall: 0.8333 - val_loss: 0.4956 - val_accuracy: 0.7037 - val_precision: 1.0000 - val_recall: 0.4286\n",
      "Epoch 75/100\n",
      "5/5 [==============================] - 0s 4ms/step - loss: 0.4833 - accuracy: 0.7739 - precision: 0.7549 - recall: 0.8083 - val_loss: 0.3907 - val_accuracy: 0.8148 - val_precision: 0.8462 - val_recall: 0.7857\n",
      "Epoch 76/100\n",
      "5/5 [==============================] - 0s 4ms/step - loss: 0.4827 - accuracy: 0.7697 - precision: 0.7676 - recall: 0.7708 - val_loss: 0.4035 - val_accuracy: 0.8519 - val_precision: 0.9545 - val_recall: 0.7500\n",
      "Epoch 77/100\n",
      "5/5 [==============================] - 0s 4ms/step - loss: 0.4790 - accuracy: 0.7780 - precision: 0.7401 - recall: 0.8542 - val_loss: 0.4944 - val_accuracy: 0.7222 - val_precision: 1.0000 - val_recall: 0.4643\n",
      "Epoch 78/100\n",
      "5/5 [==============================] - 0s 4ms/step - loss: 0.4784 - accuracy: 0.7759 - precision: 0.7797 - recall: 0.7667 - val_loss: 0.3918 - val_accuracy: 0.8148 - val_precision: 0.8462 - val_recall: 0.7857\n",
      "Epoch 79/100\n",
      "5/5 [==============================] - 0s 4ms/step - loss: 0.4786 - accuracy: 0.7593 - precision: 0.7460 - recall: 0.7833 - val_loss: 0.4571 - val_accuracy: 0.7407 - val_precision: 1.0000 - val_recall: 0.5000\n",
      "Epoch 80/100\n",
      "5/5 [==============================] - 0s 5ms/step - loss: 0.4801 - accuracy: 0.7614 - precision: 0.7306 - recall: 0.8250 - val_loss: 0.4334 - val_accuracy: 0.7963 - val_precision: 1.0000 - val_recall: 0.6071\n",
      "Epoch 81/100\n",
      "5/5 [==============================] - 0s 4ms/step - loss: 0.4801 - accuracy: 0.7739 - precision: 0.7811 - recall: 0.7583 - val_loss: 0.3989 - val_accuracy: 0.8148 - val_precision: 0.8750 - val_recall: 0.7500\n",
      "Epoch 82/100\n",
      "5/5 [==============================] - 0s 4ms/step - loss: 0.4766 - accuracy: 0.7780 - precision: 0.7491 - recall: 0.8333 - val_loss: 0.4755 - val_accuracy: 0.7222 - val_precision: 1.0000 - val_recall: 0.4643\n",
      "Epoch 83/100\n",
      "5/5 [==============================] - 0s 4ms/step - loss: 0.4881 - accuracy: 0.7801 - precision: 0.7519 - recall: 0.8333 - val_loss: 0.4480 - val_accuracy: 0.7778 - val_precision: 1.0000 - val_recall: 0.5714\n",
      "Epoch 84/100\n",
      "5/5 [==============================] - 0s 5ms/step - loss: 0.4847 - accuracy: 0.7822 - precision: 0.7848 - recall: 0.7750 - val_loss: 0.3929 - val_accuracy: 0.8148 - val_precision: 0.8462 - val_recall: 0.7857\n",
      "Epoch 85/100\n",
      "5/5 [==============================] - 0s 4ms/step - loss: 0.4709 - accuracy: 0.7905 - precision: 0.7509 - recall: 0.8667 - val_loss: 0.5207 - val_accuracy: 0.6667 - val_precision: 1.0000 - val_recall: 0.3571\n",
      "Epoch 86/100\n",
      "5/5 [==============================] - 0s 4ms/step - loss: 0.4932 - accuracy: 0.7718 - precision: 0.7686 - recall: 0.7750 - val_loss: 0.3868 - val_accuracy: 0.8148 - val_precision: 0.8214 - val_recall: 0.8214\n",
      "Epoch 87/100\n",
      "5/5 [==============================] - 0s 4ms/step - loss: 0.4910 - accuracy: 0.7656 - precision: 0.7613 - recall: 0.7708 - val_loss: 0.4053 - val_accuracy: 0.8519 - val_precision: 0.9545 - val_recall: 0.7500\n",
      "Epoch 88/100\n",
      "5/5 [==============================] - 0s 4ms/step - loss: 0.4731 - accuracy: 0.7801 - precision: 0.7463 - recall: 0.8458 - val_loss: 0.4328 - val_accuracy: 0.7963 - val_precision: 1.0000 - val_recall: 0.6071\n",
      "Epoch 89/100\n",
      "5/5 [==============================] - 0s 4ms/step - loss: 0.4809 - accuracy: 0.7739 - precision: 0.7885 - recall: 0.7458 - val_loss: 0.3855 - val_accuracy: 0.8333 - val_precision: 0.8276 - val_recall: 0.8571\n",
      "Epoch 90/100\n",
      "5/5 [==============================] - 0s 4ms/step - loss: 0.4964 - accuracy: 0.7573 - precision: 0.7220 - recall: 0.8333 - val_loss: 0.5201 - val_accuracy: 0.6667 - val_precision: 1.0000 - val_recall: 0.3571\n",
      "Epoch 91/100\n",
      "5/5 [==============================] - 0s 4ms/step - loss: 0.4855 - accuracy: 0.7573 - precision: 0.7552 - recall: 0.7583 - val_loss: 0.3881 - val_accuracy: 0.8148 - val_precision: 0.8214 - val_recall: 0.8214\n",
      "Epoch 92/100\n",
      "5/5 [==============================] - 0s 4ms/step - loss: 0.4893 - accuracy: 0.7573 - precision: 0.7552 - recall: 0.7583 - val_loss: 0.4257 - val_accuracy: 0.8148 - val_precision: 1.0000 - val_recall: 0.6429\n",
      "Epoch 93/100\n",
      "5/5 [==============================] - 0s 4ms/step - loss: 0.4739 - accuracy: 0.7759 - precision: 0.7463 - recall: 0.8333 - val_loss: 0.4251 - val_accuracy: 0.8148 - val_precision: 1.0000 - val_recall: 0.6429\n",
      "Epoch 94/100\n",
      "5/5 [==============================] - 0s 5ms/step - loss: 0.4719 - accuracy: 0.7822 - precision: 0.7647 - recall: 0.8125 - val_loss: 0.4555 - val_accuracy: 0.7407 - val_precision: 1.0000 - val_recall: 0.5000\n",
      "Epoch 95/100\n",
      "5/5 [==============================] - 0s 5ms/step - loss: 0.4848 - accuracy: 0.8008 - precision: 0.7812 - recall: 0.8333 - val_loss: 0.4881 - val_accuracy: 0.7222 - val_precision: 1.0000 - val_recall: 0.4643\n",
      "Epoch 96/100\n",
      "5/5 [==============================] - 0s 4ms/step - loss: 0.4838 - accuracy: 0.7697 - precision: 0.7722 - recall: 0.7625 - val_loss: 0.4075 - val_accuracy: 0.8519 - val_precision: 0.9545 - val_recall: 0.7500\n",
      "Epoch 97/100\n",
      "5/5 [==============================] - 0s 4ms/step - loss: 0.4746 - accuracy: 0.7863 - precision: 0.7773 - recall: 0.8000 - val_loss: 0.4162 - val_accuracy: 0.7963 - val_precision: 0.9474 - val_recall: 0.6429\n",
      "Epoch 98/100\n",
      "5/5 [==============================] - 0s 4ms/step - loss: 0.4715 - accuracy: 0.7842 - precision: 0.7576 - recall: 0.8333 - val_loss: 0.4141 - val_accuracy: 0.7963 - val_precision: 0.9474 - val_recall: 0.6429\n",
      "Epoch 99/100\n",
      "5/5 [==============================] - 0s 5ms/step - loss: 0.4731 - accuracy: 0.7822 - precision: 0.7647 - recall: 0.8125 - val_loss: 0.4422 - val_accuracy: 0.7778 - val_precision: 1.0000 - val_recall: 0.5714\n",
      "Epoch 100/100\n",
      "5/5 [==============================] - 0s 4ms/step - loss: 0.4720 - accuracy: 0.7718 - precision: 0.7778 - recall: 0.7583 - val_loss: 0.3858 - val_accuracy: 0.7963 - val_precision: 0.8148 - val_recall: 0.7857\n"
     ]
    }
   ],
   "source": [
    "#fitting the model\n",
    "history = model.fit(X_train, y_train, validation_data=(\n",
    "        X_test, y_test), epochs=100, batch_size=100, verbose=1)"
   ]
  },
  {
   "cell_type": "code",
   "execution_count": 48,
   "id": "1960ae1b",
   "metadata": {},
   "outputs": [],
   "source": [
    "#predictions\n",
    "y_pred = model.predict(X_test).ravel()"
   ]
  },
  {
   "cell_type": "markdown",
   "id": "9191d5ed",
   "metadata": {},
   "source": [
    "# Area Under a Curve"
   ]
  },
  {
   "cell_type": "code",
   "execution_count": 49,
   "id": "a28d606b",
   "metadata": {},
   "outputs": [
    {
     "data": {
      "text/plain": [
       "[<matplotlib.lines.Line2D at 0x1ee7a67e1c0>]"
      ]
     },
     "execution_count": 49,
     "metadata": {},
     "output_type": "execute_result"
    },
    {
     "data": {
      "image/png": "[encoded data removed]",
      "text/plain": [
       "<Figure size 1296x576 with 1 Axes>"
      ]
     },
     "metadata": {
      "needs_background": "light"
     },
     "output_type": "display_data"
    }
   ],
   "source": [
    "#displaying the roc_curve\n",
    "nn_fpr_keras, nn_tpr_keras, nn_thresholds_keras = roc_curve(y_test, y_pred)\n",
    "auc_keras = auc(nn_fpr_keras, nn_tpr_keras)\n",
    "plt.plot(nn_fpr_keras, nn_tpr_keras, marker='.', label='Neural Network (auc = %0.3f)' % auc_keras)"
   ]
  },
  {
   "cell_type": "code",
   "execution_count": 50,
   "id": "7b1d1d65",
   "metadata": {},
   "outputs": [],
   "source": [
    "#importing the auc library\n",
    "from sklearn.metrics import auc"
   ]
  },
  {
   "cell_type": "code",
   "execution_count": 51,
   "id": "0ad620ce",
   "metadata": {},
   "outputs": [
    {
     "data": {
      "text/plain": [
       "0.9244505494505494"
      ]
     },
     "execution_count": 51,
     "metadata": {},
     "output_type": "execute_result"
    }
   ],
   "source": [
    "#displaying the area under the curve\n",
    "auc(nn_fpr_keras, nn_tpr_keras)"
   ]
  },
  {
   "cell_type": "markdown",
   "id": "c982611a",
   "metadata": {},
   "source": [
    "# Summary and Conclusion "
   ]
  },
  {
   "cell_type": "markdown",
   "id": "6e7d3faa",
   "metadata": {},
   "source": [
    "This writeup concludes with a successful prediction of the dataset namely Instabul Stock Exchange and via the Logistic Regression (LR) and artificial deep nueral network (ADNN) by using the Python programming language.  EU and the FSTE were omitted due to multicollinearity. For the LR prediction model, DAX, BOVESPA, and EM are statistically significant. The NIKKEI and SP variables were removed before modelling ADNN model since they were not found to be statistically significant in LR. "
   ]
  },
  {
   "cell_type": "code",
   "execution_count": null,
   "id": "45ed1f1d",
   "metadata": {},
   "outputs": [],
   "source": []
  }
 ],
 "metadata": {
  "kernelspec": {
   "display_name": "Python 3 (ipykernel)",
   "language": "python",
   "name": "python3"
  },
  "language_info": {
   "codemirror_mode": {
    "name": "ipython",
    "version": 3
   },
   "file_extension": ".py",
   "mimetype": "text/x-python",
   "name": "python",
   "nbconvert_exporter": "python",
   "pygments_lexer": "ipython3",
   "version": "3.8.10"
  }
 },
 "nbformat": 4,
 "nbformat_minor": 5
}
